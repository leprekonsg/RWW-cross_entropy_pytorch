{
  "nbformat": 4,
  "nbformat_minor": 0,
  "metadata": {
    "colab": {
      "name": "Churn Analysis",
      "provenance": [],
      "collapsed_sections": [],
      "authorship_tag": "ABX9TyOBQv2aDFP5RDp9h+bvm11K",
      "include_colab_link": true
    },
    "kernelspec": {
      "name": "python3",
      "display_name": "Python 3"
    }
  },
  "cells": [
    {
      "cell_type": "markdown",
      "metadata": {
        "id": "view-in-github",
        "colab_type": "text"
      },
      "source": [
        "<a href=\"https://colab.research.google.com/github/yaoshiang/The-Real-World-Weight-Crossentropy-Loss-Function/blob/master/Churn_Analysis.ipynb\" target=\"_parent\"><img src=\"https://colab.research.google.com/assets/colab-badge.svg\" alt=\"Open In Colab\"/></a>"
      ]
    },
    {
      "cell_type": "markdown",
      "metadata": {
        "id": "ZGKxo7oY2lCZ",
        "colab_type": "text"
      },
      "source": [
        "# Churn predictor\n",
        "\n",
        "## This tool uses 5 months of churn to predict the churn and subscriber totals for the full 120 months. \n",
        "\n",
        "(c) 2020 Yaoshiang Ho"
      ]
    },
    {
      "cell_type": "markdown",
      "metadata": {
        "id": "Fy9FrcMp2wv5",
        "colab_type": "text"
      },
      "source": [
        "\n",
        "\n",
        "```\n",
        "# This is formatted as code\n",
        "```\n",
        "\n",
        "Enter your six months of end-of-month subscriber numbers here, including month 0 (all sub adds prior to end of month). \n",
        "\n",
        "As a sample, we used 1000, 600, 420, 315, 252, and 215. This represents churn of 40%, 30%, 25%, 20%, and 15%. \n",
        "\n"
      ]
    },
    {
      "cell_type": "code",
      "metadata": {
        "id": "OWLXDVQK2kLS",
        "colab_type": "code",
        "colab": {}
      },
      "source": [
        "subs=[1.000, .600, .420, .315, .252, .215]"
      ],
      "execution_count": 0,
      "outputs": []
    },
    {
      "cell_type": "markdown",
      "metadata": {
        "id": "Z4xFrVa33Rwt",
        "colab_type": "text"
      },
      "source": [
        "This is the churn rate per month:"
      ]
    },
    {
      "cell_type": "code",
      "metadata": {
        "id": "xcQlz5bF3UgW",
        "colab_type": "code",
        "outputId": "d274bfb4-4694-41c7-afe9-42d83f834717",
        "colab": {
          "base_uri": "https://localhost:8080/",
          "height": 34
        }
      },
      "source": [
        "import numpy as np\n",
        "\n",
        "subs = np.array(subs)\n",
        "\n",
        "churn = (subs[0:5] - subs[1:6]) / subs[0:5]\n",
        "print(churn)"
      ],
      "execution_count": 45,
      "outputs": [
        {
          "output_type": "stream",
          "text": [
            "[0.4       0.3       0.25      0.2       0.1468254]\n"
          ],
          "name": "stdout"
        }
      ]
    },
    {
      "cell_type": "markdown",
      "metadata": {
        "id": "wgQxUVhH4EW8",
        "colab_type": "text"
      },
      "source": [
        "Setup 99 segments with churn ranging from 1% to 99%\n"
      ]
    },
    {
      "cell_type": "code",
      "metadata": {
        "id": "dYRfwlXU4Ds1",
        "colab_type": "code",
        "outputId": "a7b6f3d5-df4a-4b3d-c488-e82ce5ab7350",
        "colab": {
          "base_uri": "https://localhost:8080/",
          "height": 153
        }
      },
      "source": [
        "segment_churns = np.arange(.01,1., 0.01)\n",
        "print(segment_churns)"
      ],
      "execution_count": 46,
      "outputs": [
        {
          "output_type": "stream",
          "text": [
            "[0.01 0.02 0.03 0.04 0.05 0.06 0.07 0.08 0.09 0.1  0.11 0.12 0.13 0.14\n",
            " 0.15 0.16 0.17 0.18 0.19 0.2  0.21 0.22 0.23 0.24 0.25 0.26 0.27 0.28\n",
            " 0.29 0.3  0.31 0.32 0.33 0.34 0.35 0.36 0.37 0.38 0.39 0.4  0.41 0.42\n",
            " 0.43 0.44 0.45 0.46 0.47 0.48 0.49 0.5  0.51 0.52 0.53 0.54 0.55 0.56\n",
            " 0.57 0.58 0.59 0.6  0.61 0.62 0.63 0.64 0.65 0.66 0.67 0.68 0.69 0.7\n",
            " 0.71 0.72 0.73 0.74 0.75 0.76 0.77 0.78 0.79 0.8  0.81 0.82 0.83 0.84\n",
            " 0.85 0.86 0.87 0.88 0.89 0.9  0.91 0.92 0.93 0.94 0.95 0.96 0.97 0.98\n",
            " 0.99]\n"
          ],
          "name": "stdout"
        }
      ]
    },
    {
      "cell_type": "code",
      "metadata": {
        "id": "SI_AmUsz4TUt",
        "colab_type": "code",
        "colab": {}
      },
      "source": [
        "import keras.backend as K\n",
        "\n",
        "months = 5\n",
        "\n",
        "def fprop(segment_sizes):\n",
        "  '''\n",
        "  Arguments: \n",
        "  * segment_sizes: numpy array of size (99)\n",
        "  * segment_churns: numpy array of size (99)\n",
        "  Returns:\n",
        "  * np array shape (months, total subs)\n",
        "  '''\n",
        "  retval = []\n",
        "  # retval2 = []\n",
        "  current_month_sizes = segment_sizes\n",
        "  for i in range(5):\n",
        "    current_month_sizes = current_month_sizes * (1. - segment_churns) # m,99 * 99 = m,99\n",
        "    retval.append(K.sum(current_month_sizes, axis=-1)) # m\n",
        "    # retval2.append(current_month_sizes)\n",
        "\n",
        "  retval = K.stack(retval, axis=-1) # m,99,6\n",
        "\n",
        "  return retval"
      ],
      "execution_count": 0,
      "outputs": []
    },
    {
      "cell_type": "code",
      "metadata": {
        "id": "CbwwcDl5c1H-",
        "colab_type": "code",
        "colab": {}
      },
      "source": [
        "from keras.models import Model\n",
        "from keras.layers import Lambda, Input, Dense\n",
        "from keras.utils import to_categorical\n",
        "from keras import optimizers\n",
        "from keras import regularizers\n",
        "\n",
        "kx = Input(shape=(1,))\n",
        "kd = Dense(99, use_bias=False, activation='softmax', activity_regularizer=regularizers.l2())(kx) \n",
        "k_y = Lambda(fprop, output_shape=(5,))(kd)\n",
        "m = Model(inputs=kx, outputs=k_y)"
      ],
      "execution_count": 0,
      "outputs": []
    },
    {
      "cell_type": "code",
      "metadata": {
        "id": "7nFu5P_Peibt",
        "colab_type": "code",
        "outputId": "68224078-8000-405f-d572-d19780046ee0",
        "colab": {
          "base_uri": "https://localhost:8080/",
          "height": 204
        }
      },
      "source": [
        "opt=optimizers.Adam(lr=.1)\n",
        "\n",
        "m.compile(optimizer=opt, loss='mse')\n",
        "\n",
        "x = np.ones(shape=(1000,1))\n",
        "y = np.tile(subs[1:], (1000,1))\n",
        "m.fit(x=x, y=y, epochs=5, batch_size=1)"
      ],
      "execution_count": 64,
      "outputs": [
        {
          "output_type": "stream",
          "text": [
            "Epoch 1/5\n",
            "1000/1000 [==============================] - 2s 2ms/step - loss: 1.3962e-04\n",
            "Epoch 2/5\n",
            "1000/1000 [==============================] - 1s 1ms/step - loss: 1.2201e-04\n",
            "Epoch 3/5\n",
            "1000/1000 [==============================] - 1s 1ms/step - loss: 1.2199e-04\n",
            "Epoch 4/5\n",
            "1000/1000 [==============================] - 1s 1ms/step - loss: 1.2212e-04\n",
            "Epoch 5/5\n",
            "1000/1000 [==============================] - 1s 1ms/step - loss: 1.2231e-04\n"
          ],
          "name": "stdout"
        },
        {
          "output_type": "execute_result",
          "data": {
            "text/plain": [
              "<keras.callbacks.History at 0x7f4bdd99bb38>"
            ]
          },
          "metadata": {
            "tags": []
          },
          "execution_count": 64
        }
      ]
    },
    {
      "cell_type": "code",
      "metadata": {
        "id": "ZJsyfeH7kYJu",
        "colab_type": "code",
        "colab": {
          "base_uri": "https://localhost:8080/",
          "height": 34
        },
        "outputId": "12852ad0-30bc-488b-a2a3-b545fe9031b5"
      },
      "source": [
        "r = m.predict(x=np.ones(shape=(1)))\n",
        "print(r)"
      ],
      "execution_count": 65,
      "outputs": [
        {
          "output_type": "stream",
          "text": [
            "[[0.5970495  0.41555873 0.31506526 0.2522746  0.20971647]]\n"
          ],
          "name": "stdout"
        }
      ]
    },
    {
      "cell_type": "code",
      "metadata": {
        "colab_type": "code",
        "outputId": "5db19145-e392-443b-fb04-9765aece1f47",
        "id": "znCjkp1Xgt4X",
        "colab": {
          "base_uri": "https://localhost:8080/",
          "height": 306
        }
      },
      "source": [
        "l = m.layers[1].get_weights()\n",
        "# print(l[0])\n",
        "\n",
        "sizes = K.eval(K.softmax(l[0]))\n",
        "print(sizes)"
      ],
      "execution_count": 66,
      "outputs": [
        {
          "output_type": "stream",
          "text": [
            "[[0.01385197 0.01361397 0.01340884 0.01323502 0.0130723  0.012945\n",
            "  0.01283998 0.01275359 0.01267333 0.01263016 0.01258475 0.01256928\n",
            "  0.01254031 0.01254168 0.01256009 0.01257701 0.01259918 0.01262729\n",
            "  0.01265678 0.01270981 0.01274777 0.01279294 0.01284428 0.01290018\n",
            "  0.0129462  0.01300683 0.01305353 0.01310069 0.01316388 0.01323209\n",
            "  0.01330729 0.01339382 0.01344502 0.0134765  0.01350727 0.01350668\n",
            "  0.01348353 0.0134785  0.0134561  0.01343746 0.01339937 0.01335076\n",
            "  0.0132979  0.01323189 0.01316326 0.01307827 0.01298946 0.01288926\n",
            "  0.01277972 0.01266405 0.01253709 0.01240268 0.01225634 0.01210816\n",
            "  0.01194583 0.01177765 0.01159874 0.01141369 0.0112179  0.01101848\n",
            "  0.01081184 0.01059447 0.01037573 0.01014719 0.00990963 0.00966922\n",
            "  0.00942565 0.00916939 0.00891543 0.00865699 0.00839307 0.00812005\n",
            "  0.00785226 0.00757655 0.007299   0.00701353 0.0067318  0.00644793\n",
            "  0.00617117 0.00588707 0.00560199 0.00531335 0.00503239 0.00475024\n",
            "  0.00447251 0.00418999 0.00391332 0.00364386 0.0033742  0.00311181\n",
            "  0.00285133 0.00259675 0.00234687 0.00210335 0.00186845 0.00163373\n",
            "  0.00141583 0.00122111 0.0009997 ]]\n"
          ],
          "name": "stdout"
        }
      ]
    },
    {
      "cell_type": "code",
      "metadata": {
        "id": "pSIiusXksWw_",
        "colab_type": "code",
        "colab": {}
      },
      "source": [
        "def build(sizes, churn_segs, months=120):\n",
        "  '''\n",
        "  returns\n",
        "  * size of cohort for each month\n",
        "  * detail per churn segment\n",
        "  * churns\n",
        "  * estimated lifetime of each sub in months. \n",
        "  '''\n",
        "\n",
        "  initial_subs = np.sum(sizes)\n",
        "\n",
        "  summary = np.zeros(shape=(months+1))\n",
        "  detail = np.zeros(shape=(months+1, churn_segs.shape[0]))\n",
        "  churns = np.zeros(shape=(months+1))\n",
        "\n",
        "  current = sizes\n",
        "  detail[0] = current\n",
        "\n",
        "  # Forward prop through the months \n",
        "  for i in range(1, months+1):\n",
        "    current = current * (1. - churn_segs)\n",
        "    detail[i] = current\n",
        "\n",
        "  summary = np.sum(detail, axis=1)\n",
        "\n",
        "  # Calculate churns \n",
        "  churns[0] = 0\n",
        "  churns[1:] = (summary[:-1] - summary[1:]) / summary[:-1]\n",
        "\n",
        "  lt = np.sum(summary) / initial_subs\n",
        "\n",
        "  return summary, detail, churns, lt\n",
        "\n",
        "summary, detail, churns, lt = build(sizes, segment_churns)"
      ],
      "execution_count": 0,
      "outputs": []
    },
    {
      "cell_type": "markdown",
      "metadata": {
        "id": "ttuxHETJhp2B",
        "colab_type": "text"
      },
      "source": [
        "This is the chance that a sub is still around in any given month. "
      ]
    },
    {
      "cell_type": "code",
      "metadata": {
        "id": "0x-Yqi5Eblt1",
        "colab_type": "code",
        "colab": {
          "base_uri": "https://localhost:8080/",
          "height": 374
        },
        "outputId": "c6c56b9f-01df-4cbb-9ab5-53ba372761c7"
      },
      "source": [
        "print(summary)"
      ],
      "execution_count": 68,
      "outputs": [
        {
          "output_type": "stream",
          "text": [
            "[1.00000012 0.59704949 0.41555873 0.31506525 0.25227459 0.20971646\n",
            " 0.17912652 0.15614285 0.13826802 0.12397866 0.11229713 0.10256924\n",
            " 0.0943417  0.08729096 0.08118013 0.07583191 0.07111101 0.06691242\n",
            " 0.06315339 0.05976787 0.05670243 0.05391345 0.0513649  0.0490268\n",
            " 0.04687399 0.04488517 0.04304222 0.04132959 0.03973391 0.03824355\n",
            " 0.03684842 0.03553965 0.03430946 0.033151   0.03205817 0.03102556\n",
            " 0.03004834 0.02912219 0.02824322 0.02740793 0.02661318 0.02585609\n",
            " 0.02513407 0.02444476 0.02378601 0.02315585 0.02255247 0.02197424\n",
            " 0.02141962 0.02088722 0.02037575 0.01988401 0.01941092 0.01895543\n",
            " 0.01851661 0.01809358 0.01768551 0.01729165 0.01691127 0.01654371\n",
            " 0.01618836 0.01584463 0.01551197 0.01518986 0.01487784 0.01457545\n",
            " 0.01428225 0.01399786 0.01372189 0.01345399 0.01319381 0.01294105\n",
            " 0.0126954  0.01245657 0.0122243  0.01199834 0.01177842 0.01156434\n",
            " 0.01135587 0.01115279 0.01095492 0.01076207 0.01057405 0.0103907\n",
            " 0.01021184 0.01003734 0.00986703 0.00970077 0.00953844 0.0093799\n",
            " 0.00922503 0.00907371 0.00892582 0.00878126 0.00863992 0.00850171\n",
            " 0.00836652 0.00823427 0.00810487 0.00797822 0.00785426 0.0077329\n",
            " 0.00761407 0.00749769 0.0073837  0.00727203 0.00716261 0.00705538\n",
            " 0.00695028 0.00684725 0.00674624 0.0066472  0.00655007 0.00645479\n",
            " 0.00636134 0.00626964 0.00617967 0.00609138 0.00600472 0.00591966\n",
            " 0.00583615]\n"
          ],
          "name": "stdout"
        }
      ]
    },
    {
      "cell_type": "code",
      "metadata": {
        "id": "uczEa8MTcCMt",
        "colab_type": "code",
        "colab": {
          "base_uri": "https://localhost:8080/",
          "height": 238
        },
        "outputId": "08b62a7d-3b11-451e-e8ea-8d72a7f6412b"
      },
      "source": [
        "print (detail)"
      ],
      "execution_count": 69,
      "outputs": [
        {
          "output_type": "stream",
          "text": [
            "[[1.38519658e-002 1.36139710e-002 1.34088360e-002 ... 1.41583383e-003\n",
            "  1.22111384e-003 9.99703305e-004]\n",
            " [1.37134461e-002 1.33416915e-002 1.30065709e-002 ... 4.24750149e-005\n",
            "  2.44222768e-005 9.99703305e-006]\n",
            " [1.35763117e-002 1.30748577e-002 1.26163738e-002 ... 1.27425045e-006\n",
            "  4.88445535e-007 9.99703305e-008]\n",
            " ...\n",
            " [4.23120797e-003 1.25505209e-003 3.68515468e-004 ... 2.82696442e-183\n",
            "  4.05784675e-204 9.99703305e-240]\n",
            " [4.18889589e-003 1.22995105e-003 3.57460004e-004 ... 8.48089326e-185\n",
            "  8.11569350e-206 9.99703305e-242]\n",
            " [4.14700693e-003 1.20535203e-003 3.46736204e-004 ... 2.54426798e-186\n",
            "  1.62313870e-207 9.99703305e-244]]\n"
          ],
          "name": "stdout"
        }
      ]
    },
    {
      "cell_type": "markdown",
      "metadata": {
        "id": "9c4FrYsPhnTg",
        "colab_type": "text"
      },
      "source": [
        "These are the churn rates per month. "
      ]
    },
    {
      "cell_type": "code",
      "metadata": {
        "id": "1u7vhWuIdBpB",
        "colab_type": "code",
        "colab": {
          "base_uri": "https://localhost:8080/",
          "height": 374
        },
        "outputId": "2c007896-53c8-4f46-95a1-e2b792d7e19c"
      },
      "source": [
        "print(churns)"
      ],
      "execution_count": 70,
      "outputs": [
        {
          "output_type": "stream",
          "text": [
            "[0.         0.40295059 0.30397943 0.24182737 0.19929414 0.16869766\n",
            " 0.14586331 0.1283097  0.11447744 0.10334534 0.0942221  0.08662633\n",
            " 0.08021452 0.07473624 0.07000529 0.06588088 0.06225482 0.05904279\n",
            " 0.05617823 0.05360796 0.05128902 0.04918636 0.04727112 0.04551934\n",
            " 0.04391096 0.04242906 0.04105928 0.03978937 0.03860877 0.03750839\n",
            " 0.03648033 0.03551767 0.03461438 0.03376514 0.03296523 0.0322105\n",
            " 0.03149722 0.0308221  0.03018214 0.0295747  0.02899736 0.02844796\n",
            " 0.02792452 0.02742526 0.02694856 0.02649293 0.02605703 0.0256396\n",
            " 0.02523952 0.02485573 0.02448728 0.02413327 0.02379288 0.02346536\n",
            " 0.02315    0.02284614 0.02255319 0.02227057 0.02199776 0.02173426\n",
            " 0.02147962 0.02123342 0.02099523 0.0207647  0.02054147 0.02032521\n",
            " 0.02011559 0.01991234 0.01971517 0.01952383 0.01933806 0.01915764\n",
            " 0.01898234 0.01881197 0.01864631 0.01848519 0.01832843 0.01817585\n",
            " 0.01802732 0.01788266 0.01774174 0.01760442 0.01747057 0.01734008\n",
            " 0.01721281 0.01708865 0.01696751 0.01684927 0.01673385 0.01662114\n",
            " 0.01651105 0.01640351 0.01629842 0.01619572 0.01609532 0.01599715\n",
            " 0.01590115 0.01580725 0.01571538 0.01562549 0.01553751 0.01545139\n",
            " 0.01536707 0.01528451 0.01520364 0.01512444 0.01504684 0.0149708\n",
            " 0.01489628 0.01482324 0.01475164 0.01468144 0.0146126  0.01454509\n",
            " 0.01447887 0.01441391 0.01435018 0.01428764 0.01422626 0.01416602\n",
            " 0.01410689]\n"
          ],
          "name": "stdout"
        }
      ]
    },
    {
      "cell_type": "markdown",
      "metadata": {
        "id": "I6UTrq-ahjQj",
        "colab_type": "text"
      },
      "source": [
        "This is your expected months of lifetime per sub."
      ]
    },
    {
      "cell_type": "code",
      "metadata": {
        "id": "yhRgl1KXdDUZ",
        "colab_type": "code",
        "colab": {
          "base_uri": "https://localhost:8080/",
          "height": 34
        },
        "outputId": "74a0b39e-e4dc-463b-9b3f-ff8818831b02"
      },
      "source": [
        "print(lt)"
      ],
      "execution_count": 71,
      "outputs": [
        {
          "output_type": "stream",
          "text": [
            "6.0026820880184655\n"
          ],
          "name": "stdout"
        }
      ]
    },
    {
      "cell_type": "markdown",
      "metadata": {
        "id": "GE_-CH_QhgrZ",
        "colab_type": "text"
      },
      "source": [
        "This is your average churn for the segment. "
      ]
    },
    {
      "cell_type": "code",
      "metadata": {
        "id": "39IJubKBdbMV",
        "colab_type": "code",
        "colab": {
          "base_uri": "https://localhost:8080/",
          "height": 34
        },
        "outputId": "3bb7a0e9-8c9d-48de-d4ee-fd9f9937f41e"
      },
      "source": [
        "print(1/lt)"
      ],
      "execution_count": 72,
      "outputs": [
        {
          "output_type": "stream",
          "text": [
            "0.16659219751051454\n"
          ],
          "name": "stdout"
        }
      ]
    },
    {
      "cell_type": "code",
      "metadata": {
        "id": "02f_9D4-duts",
        "colab_type": "code",
        "colab": {}
      },
      "source": [
        ""
      ],
      "execution_count": 0,
      "outputs": []
    }
  ]
}