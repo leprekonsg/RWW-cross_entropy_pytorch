{
  "nbformat": 4,
  "nbformat_minor": 0,
  "metadata": {
    "colab": {
      "name": "Real-World-Weighted Crossentropy Loss Function",
      "provenance": [],
      "include_colab_link": true
    },
    "kernelspec": {
      "name": "python3",
      "display_name": "Python 3"
    },
    "accelerator": "GPU"
  },
  "cells": [
    {
      "cell_type": "markdown",
      "metadata": {
        "id": "view-in-github",
        "colab_type": "text"
      },
      "source": [
        "<a href=\"https://colab.research.google.com/github/yaoshiang/The-Real-World-Weight-Crossentropy-Loss-Function/blob/master/Real_World_Weighted_Crossentropy_Loss_Function.ipynb\" target=\"_parent\"><img src=\"https://colab.research.google.com/assets/colab-badge.svg\" alt=\"Open In Colab\"/></a>"
      ]
    },
    {
      "cell_type": "markdown",
      "metadata": {
        "id": "5Y1dlLOBjGuy",
        "colab_type": "text"
      },
      "source": [
        "# Real-World-Weighted Crossentropy Loss Function\n",
        "\n",
        "\n",
        "\n"
      ]
    },
    {
      "cell_type": "markdown",
      "metadata": {
        "id": "pjW5dVQjjE6d",
        "colab_type": "text"
      },
      "source": [
        "This is a companion notebook to the paper published at <<<>>>."
      ]
    },
    {
      "cell_type": "markdown",
      "metadata": {
        "id": "mOo8TfTRUIOX",
        "colab_type": "text"
      },
      "source": [
        "Copyright (C) 2019 Yaoshiang Ho\n",
        "\n",
        "This program is free software: you can redistribute it and/or modify\n",
        "it under the terms of the GNU General Public License as published by\n",
        "the Free Software Foundation, either version 3 of the License, or\n",
        "(at your option) any later version.\n",
        "\n",
        "This program is distributed in the hope that it will be useful,\n",
        "but WITHOUT ANY WARRANTY; without even the implied warranty of\n",
        "MERCHANTABILITY or FITNESS FOR A PARTICULAR PURPOSE.  See the\n",
        "GNU General Public License for more details.\n",
        "\n",
        "Contact author for exceptions, which are intended to be widely granted. \n",
        "\n",
        "You should have received a copy of the GNU General Public License\n",
        "along with this program.  If not, see <https://www.gnu.org/licenses/>."
      ]
    },
    {
      "cell_type": "code",
      "metadata": {
        "id": "r6B-pD4hiHyi",
        "colab_type": "code",
        "outputId": "9c8c3d27-89d8-44bb-c8e4-31d7a9f67e52",
        "colab": {
          "base_uri": "https://localhost:8080/",
          "height": 94
        }
      },
      "source": [
        "# Import necessary libraries\n",
        "\n",
        "from sklearn.datasets import fetch_openml\n",
        "from sklearn.model_selection import train_test_split\n",
        "\n",
        "import numpy as np\n",
        "from numpy.random import seed\n",
        "\n",
        "import matplotlib.pyplot as plt\n",
        "\n",
        "from tensorflow import set_random_seed\n",
        "\n",
        "import keras.backend as K\n",
        "from keras.layers import Input, Dense, Dropout\n",
        "from keras.models import Model\n",
        "from keras.utils import to_categorical\n",
        "from keras.optimizers import SGD\n",
        "\n",
        "import scipy as sp\n",
        "\n",
        "from tabulate import tabulate\n",
        "\n",
        "np.set_printoptions(formatter={'float': lambda x: \"{0:0.2f}\".format(x)})"
      ],
      "execution_count": 0,
      "outputs": [
        {
          "output_type": "stream",
          "text": [
            "Using TensorFlow backend.\n"
          ],
          "name": "stderr"
        }
      ]
    },
    {
      "cell_type": "code",
      "metadata": {
        "id": "5uUw19MXj_tb",
        "colab_type": "code",
        "colab": {}
      },
      "source": [
        "# Fetch MNIST dataset\n",
        "\n",
        "mnist = fetch_openml('mnist_784', cache=True)"
      ],
      "execution_count": 0,
      "outputs": []
    },
    {
      "cell_type": "code",
      "metadata": {
        "id": "Q6GkBRRwkHbl",
        "colab_type": "code",
        "colab": {}
      },
      "source": [
        "#Processing on MNIST data\n",
        "X = mnist.data.astype('float32')\n",
        "y = mnist.target.astype('int64')\n",
        "X /= 255.0\n",
        "X = X\n",
        "X_train, X_test, y_train, y_test = train_test_split(X, y, test_size=0.25, random_state=1)"
      ],
      "execution_count": 0,
      "outputs": []
    },
    {
      "cell_type": "code",
      "metadata": {
        "id": "eRdr4rjpk0G2",
        "colab_type": "code",
        "colab": {}
      },
      "source": [
        "def create_model(loss):\n",
        "  k_y = k_x = Input(shape=(784,))\n",
        "  k_y = Dense(50, activation='relu')(k_y)\n",
        "  k_y = Dense(20, activation='relu')(k_y)\n",
        "  k_y = Dense(10, activation='softmax')(k_y)\n",
        "\n",
        "  model = Model(inputs=k_x, outputs=k_y)\n",
        "  model.compile(optimizer='adam', loss=loss, metrics=['categorical_accuracy'])\n",
        "  return model\n",
        "\n",
        "# model_a = create_model(\"categorical_crossentropy\")\n",
        "# set_random_seed(1)\n",
        "# model_a.fit(x = X_train, y = to_categorical(y_train), epochs=10, batch_size=100, validation_split=0.1)\n",
        "# print(model_a.evaluate(X_test, to_categorical(y_test)))"
      ],
      "execution_count": 0,
      "outputs": []
    },
    {
      "cell_type": "code",
      "metadata": {
        "id": "XI-1L6elsVe2",
        "colab_type": "code",
        "colab": {}
      },
      "source": [
        "def average_predictions(z, y):\n",
        "  # Inputs: \n",
        "  #   z: raw output of softmax for m classes\n",
        "  #   y: target predictions\n",
        "  # Outputs:\n",
        "  #   average predictions matrix of size (z.shape[1],z.shape[1])\n",
        "  #     axis 0 are the true categories\n",
        "  #     axis 1 are the predicted categories\n",
        "  #     each cell is the average of the predictions\n",
        "  m, n = z.shape\n",
        "  y_pred = np.argmax(z, axis=1)  \n",
        "  \n",
        "  averages = np.zeros((n, n))\n",
        "  \n",
        "  for i in range(0, n):\n",
        "    mask = y == np.array(i)\n",
        "    assert mask.shape == (m,)\n",
        "    np.mean(z[mask], axis=0, out=averages[i])\n",
        "    \n",
        "  return averages\n",
        "\n",
        "# print(\"Average predictions for model_a. Rows are y, columns are y_hat\")\n",
        "# print(average_predictions(model_a.predict(X_test), y_test))"
      ],
      "execution_count": 0,
      "outputs": []
    },
    {
      "cell_type": "code",
      "metadata": {
        "id": "0QovfFnw4oVz",
        "colab_type": "code",
        "colab": {}
      },
      "source": [
        "def num_predictions(z, y):\n",
        "  # Inputs: \n",
        "  #   z: raw output of softmax for m classes\n",
        "  #   y: target predictions using argmax\n",
        "  # Outputs:\n",
        "  #   total predictions matrix of size (z.shape[1],z.shape[1])\n",
        "  #     axis 0 are the true categories\n",
        "  #     axis 1 are the predicted categories\n",
        "  #     each cell is the sum of the predictions\n",
        "  m, n = z.shape\n",
        "  y_pred = np.argmax(z, axis=1)  \n",
        "  \n",
        "  sums = np.zeros((n, n))\n",
        "  \n",
        "  for i in range(0, n):\n",
        "    mask = y == np.array(i)\n",
        "    assert mask.shape == (m,)    \n",
        "    np.sum(to_categorical(np.argmax(z[mask], axis=1), num_classes=10), axis=0, out=sums[i])\n",
        "  return sums\n",
        "\n",
        "# print(\"Total number of predictions for model_a. Rows are y, columns are y_hat\")\n",
        "# np.set_printoptions(formatter={'float': lambda x: \"{0:6.0f}\".format(x)})\n",
        "# print(num_predictions(model_a.predict(X_test), y_test))\n",
        "# np.set_printoptions(formatter={'float': lambda x: \"{0:0.2f}\".format(x)})"
      ],
      "execution_count": 0,
      "outputs": []
    },
    {
      "cell_type": "code",
      "metadata": {
        "id": "KTJE_umwrIRp",
        "colab_type": "code",
        "colab": {}
      },
      "source": [
        "# Copyright (C) 2019 Yaoshiang Ho\n",
        "\n",
        "# This program is free software: you can redistribute it and/or modify\n",
        "# it under the terms of the GNU General Public License as published by\n",
        "# the Free Software Foundation, either version 3 of the License, or\n",
        "# (at your option) any later version.\n",
        "\n",
        "# This program is distributed in the hope that it will be useful,\n",
        "# but WITHOUT ANY WARRANTY; without even the implied warranty of\n",
        "# MERCHANTABILITY or FITNESS FOR A PARTICULAR PURPOSE.  See the\n",
        "# GNU General Public License for more details.\n",
        "\n",
        "# You should have received a copy of the GNU General Public License\n",
        "# along with this program.  If not, see <https://www.gnu.org/licenses/>.\n",
        "\n",
        "def create_rww_binary_crossentropy(fn_weight, fp_weight):\n",
        "  \"\"\"\n",
        "  binary_crossentropy is a special case of categorical_crossentropy.  \n",
        "  The \"all other\" column is imputed. For single-label, an implementation is provided.\n",
        "  However, this loss function is not very useful in a multi-label environment. \n",
        "  It only supports k=1. \n",
        "  \n",
        "  In future work, we will provide\n",
        "  an implementation for one target, one miscategorization. Note that this will\n",
        "  require a tensor of at lease size (k,k,2,2), where, the first 2 \n",
        "  represents T/F of target, the second 2 represents the FP/FN of label. \n",
        "\n",
        "  We may also create a fully expressive loss function, which would require some\n",
        "  efficient representation of a tensor of size (k, k, 2^k, 2^k)\n",
        "  \n",
        "  \"\"\"  \n",
        "  def binary_loss_function(target, output):\n",
        "    output = K.clip(output, K.epsilon(), 1 - K.epsilon()) \n",
        "    \n",
        "    logs = K.log(output) # shape (m, 1)\n",
        "    logs_1_sub = K.log(1-output) # shape (m, 1)\n",
        "\n",
        "    return - K.mean(target * fn_weight * logs + \n",
        "                    (1-target) * fp_weight * logs_1_sub)\n",
        "\n",
        "  return binary_loss_function\n",
        "\n",
        "def create_rww_categorical_crossentropy(k, loss_type, fn_weights=None, fp_weights=None, return_weights=False):\n",
        "  \"\"\"Real-World-Weighted crossentropy between an output tensor and a target tensor.\n",
        "  \n",
        "  The loss_types other than rww_categorical_crossentropy reimplement existing K/TF \n",
        "  functions but are not as optimized. \n",
        "  Those loss_types are useful when calling return_weights=True, which\n",
        "  then returns fn and fp weights of size (k,k). Editing those to reflect\n",
        "  real world costs, then passing them back into create_rww_crossentropy with \n",
        "  loss_type \"rww_crossentropy\" is the recommended appraoch. \n",
        "  \n",
        "  The fn and fp weights are easy to reason about. Suppose you have three classes: cat, dog, and other.\n",
        "  \n",
        "  Cat is one-hot encoded as [1,0,0] in a target. \n",
        "  \n",
        "  fn_weights of [x1, __, __]\n",
        "                [__, x2, __]\n",
        "                [__, __, x3]\n",
        " \n",
        "  fn_weights only applies to the one-hot in question. We dot to\n",
        "  \n",
        "  fn_weights of [x1, __, __]\n",
        "\n",
        "  x1 represents the scale of the cost for a fn, calculated as fn_weight * log(y_pred)\n",
        "\n",
        "  ...\n",
        "\n",
        "  fp_weights is concerned with the costs of the fps from the other classes. \n",
        "\n",
        "  fp_weights of [__, x1, x2]\n",
        "                [x3, __, x4]\n",
        "                [x5, x6, __]\n",
        " \n",
        "  fp_weights only applies to the zero labels. We again dot against [1, 0, 0]\n",
        "  \n",
        "  fp_weights of [__, x1, x2]\n",
        "\n",
        "  x1 represents the cost of predicting 1 for dog, when it should be zero. (log(1-y_pred))\n",
        "\n",
        "  \n",
        "  Args:\n",
        "    * k: 2 or more for single label, multiclass categorical crossentropy. \n",
        "      1 for the special case of binary_crossentropy\n",
        "    * loss_type: \"categorical_crossentropy\" to initialize to \n",
        "      standard softmax_crossentropy behavior, \n",
        "      or \"weighted_categorical_crossentropy\" for standard behavior, or, \n",
        "      or \"rww_crossentropy\" for full weight matrix of all possible fn/fp combinations. \n",
        "      \"binary_crossentropy\" is available but is not useful in multi-label\n",
        "      environments. It is only useful for classic binary logistic regression. \n",
        "      k must be 2 for binary_crossentropy. fp_weights and fn_weights should\n",
        "      each be scalars. \n",
        "    * fn_weights: a numpy array of \n",
        "      shape (k) for standard tf.nn.weighted_crossentropy behavior focusing on \n",
        "      false negatives. This will internally be converted to a matrix of (k,k)\n",
        "      along only the main diagonal by multiplying by identity. \n",
        "    * fp_weights: a numpy array of shape (k,k) to define specific combinations \n",
        "      of false positive. The main diag should be zeros. \n",
        "    * return_weights: If False (default), returns cost function. If True, \n",
        "      returns fn and fp weights as np.array. Useful if changes\n",
        "      necessary before passing back to create_rww_crossentropy. \n",
        "Returns:\n",
        "    * retval: Loss function for use Keras.model.fit, or if return_weights\n",
        "      arg is True, the fn_weights and fp_weights. \n",
        "  \"\"\"\n",
        "\n",
        "  full_fn_weights = None\n",
        "  full_fp_weights = None\n",
        "\n",
        "  anti_eye = np.ones((k,k)) - np.eye(k)\n",
        "    \n",
        "  if (loss_type==\"categorical_crossentropy\"):\n",
        "    full_fn_weights = np.identity((k))\n",
        "    full_fp_weights = np.zeros((k, k)) # Softmax crossentropy ignores fp.\n",
        "\n",
        "  elif(loss_type==\"weighted_categorical_crossentropy\"):\n",
        "    full_fn_weights = np.eye(k) * fn_weights\n",
        "    full_fp_weights = np.zeros((k, k)) # softmax crossentropy ignores fp\n",
        "    \n",
        "  elif(loss_type==\"rww_crossentropy\"):\n",
        "    assert not np.count_nonzero(fn_weights * anti_eye)\n",
        "    assert not np.count_nonzero(fp_weights * np.eye(k))\n",
        "\n",
        "    full_fn_weights = fn_weights\n",
        "    # Novel piece: allow any combination of fp.\n",
        "    full_fp_weights = fp_weights\n",
        "    \n",
        "  else:\n",
        "    raise Exception(\"unknown loss_type: \" + str(loss_type))\n",
        "   \n",
        "  fn_wt = K.constant(full_fn_weights) # (k,k), always sparse along main diag. \n",
        "  fp_wt = K.constant(full_fp_weights) # (k,k), always dense except main diag. \n",
        "\n",
        "  def loss_function(target, output):\n",
        "    output = K.clip(output, K.epsilon(), 1 - K.epsilon()) \n",
        "    \n",
        "    logs = K.log(output) # shape (m, k), dense. 1 is good. \n",
        "    logs_1_sub = K.log(1-output) # shape (m, k), dense. 0 is good. \n",
        "\n",
        "    m_full_fn_weights = K.dot(target, fn_wt) # (m,k) . (k, k)\n",
        "    m_full_fp_weights = K.dot(target, fp_wt) # (m,k) . (k, k)\n",
        "\n",
        "    return - K.mean(m_full_fn_weights * logs + \n",
        "                    m_full_fp_weights * logs_1_sub)\n",
        "  \n",
        "  if (return_weights):\n",
        "    return full_fn_weights, full_fp_weights\n",
        "  else:\n",
        "    return loss_function"
      ],
      "execution_count": 0,
      "outputs": []
    },
    {
      "cell_type": "code",
      "metadata": {
        "id": "s8uIO9axuDkW",
        "colab_type": "code",
        "outputId": "20b74675-aa80-4482-f006-5a8024e39378",
        "colab": {
          "base_uri": "https://localhost:8080/",
          "height": 786
        }
      },
      "source": [
        "# Example of categorical_crossentropy. Class behavior. \n",
        "fn_weights, fp_weights = create_rww_categorical_crossentropy(5, 'categorical_crossentropy', return_weights=True)\n",
        "print(\"softmax cross entropy weights. k=5 classes. Expected output: fn: ones, fp:zeros. \")\n",
        "print (fn_weights)\n",
        "print (fp_weights)\n",
        "\n",
        "# Example of weighted single-label categorical crossentropy. \n",
        "fn_weights, fp_weights = create_rww_categorical_crossentropy(5, 'weighted_categorical_crossentropy', np.array([1,2,3,4,5]), return_weights=True)\n",
        "print(\"weighted softmax crossentropy. k=5 classes. Expected output: fn: weights, fp: zeros. \")\n",
        "print (fn_weights)\n",
        "print (fp_weights)\n",
        "\n",
        "\n",
        "# Example of full weighted multi-label categorical crossentropy\n",
        "fn_weights, fp_weights = create_rww_categorical_crossentropy(10, \"categorical_crossentropy\", return_weights=True)\n",
        "fp_weights[5, 8] = 19\n",
        "loss = create_rww_categorical_crossentropy(10, \"rww_crossentropy\", fn_weights, fp_weights)\n",
        "print(\"real world weighted cross entropy weights. k=10 classes. If target label if 5, heavily penalize a (false positive) 8. \")\n",
        "print (fn_weights)\n",
        "print (fp_weights)\n",
        "\n",
        "print(loss)"
      ],
      "execution_count": 0,
      "outputs": [
        {
          "output_type": "stream",
          "text": [
            "softmax cross entropy weights. k=5 classes. Expected output: fn: ones, fp:zeros. \n",
            "[[1.00 0.00 0.00 0.00 0.00]\n",
            " [0.00 1.00 0.00 0.00 0.00]\n",
            " [0.00 0.00 1.00 0.00 0.00]\n",
            " [0.00 0.00 0.00 1.00 0.00]\n",
            " [0.00 0.00 0.00 0.00 1.00]]\n",
            "[[0.00 0.00 0.00 0.00 0.00]\n",
            " [0.00 0.00 0.00 0.00 0.00]\n",
            " [0.00 0.00 0.00 0.00 0.00]\n",
            " [0.00 0.00 0.00 0.00 0.00]\n",
            " [0.00 0.00 0.00 0.00 0.00]]\n",
            "weighted softmax crossentropy. k=5 classes. Expected output: fn: weights, fp: zeros. \n",
            "[[1.00 0.00 0.00 0.00 0.00]\n",
            " [0.00 2.00 0.00 0.00 0.00]\n",
            " [0.00 0.00 3.00 0.00 0.00]\n",
            " [0.00 0.00 0.00 4.00 0.00]\n",
            " [0.00 0.00 0.00 0.00 5.00]]\n",
            "[[0.00 0.00 0.00 0.00 0.00]\n",
            " [0.00 0.00 0.00 0.00 0.00]\n",
            " [0.00 0.00 0.00 0.00 0.00]\n",
            " [0.00 0.00 0.00 0.00 0.00]\n",
            " [0.00 0.00 0.00 0.00 0.00]]\n",
            "real world weighted cross entropy weights. k=10 classes. If target label if 5, heavily penalize a (false positive) 8. \n",
            "[[1.00 0.00 0.00 0.00 0.00 0.00 0.00 0.00 0.00 0.00]\n",
            " [0.00 1.00 0.00 0.00 0.00 0.00 0.00 0.00 0.00 0.00]\n",
            " [0.00 0.00 1.00 0.00 0.00 0.00 0.00 0.00 0.00 0.00]\n",
            " [0.00 0.00 0.00 1.00 0.00 0.00 0.00 0.00 0.00 0.00]\n",
            " [0.00 0.00 0.00 0.00 1.00 0.00 0.00 0.00 0.00 0.00]\n",
            " [0.00 0.00 0.00 0.00 0.00 1.00 0.00 0.00 0.00 0.00]\n",
            " [0.00 0.00 0.00 0.00 0.00 0.00 1.00 0.00 0.00 0.00]\n",
            " [0.00 0.00 0.00 0.00 0.00 0.00 0.00 1.00 0.00 0.00]\n",
            " [0.00 0.00 0.00 0.00 0.00 0.00 0.00 0.00 1.00 0.00]\n",
            " [0.00 0.00 0.00 0.00 0.00 0.00 0.00 0.00 0.00 1.00]]\n",
            "[[0.00 0.00 0.00 0.00 0.00 0.00 0.00 0.00 0.00 0.00]\n",
            " [0.00 0.00 0.00 0.00 0.00 0.00 0.00 0.00 0.00 0.00]\n",
            " [0.00 0.00 0.00 0.00 0.00 0.00 0.00 0.00 0.00 0.00]\n",
            " [0.00 0.00 0.00 0.00 0.00 0.00 0.00 0.00 0.00 0.00]\n",
            " [0.00 0.00 0.00 0.00 0.00 0.00 0.00 0.00 0.00 0.00]\n",
            " [0.00 0.00 0.00 0.00 0.00 0.00 0.00 0.00 19.00 0.00]\n",
            " [0.00 0.00 0.00 0.00 0.00 0.00 0.00 0.00 0.00 0.00]\n",
            " [0.00 0.00 0.00 0.00 0.00 0.00 0.00 0.00 0.00 0.00]\n",
            " [0.00 0.00 0.00 0.00 0.00 0.00 0.00 0.00 0.00 0.00]\n",
            " [0.00 0.00 0.00 0.00 0.00 0.00 0.00 0.00 0.00 0.00]]\n",
            "<function create_rww_categorical_crossentropy.<locals>.loss_function at 0x7f27124e8bf8>\n"
          ],
          "name": "stdout"
        }
      ]
    },
    {
      "cell_type": "code",
      "metadata": {
        "id": "MuwzaTB3n75K",
        "colab_type": "code",
        "outputId": "d38ee286-ce6c-4f8c-f08c-d273a9c64341",
        "colab": {
          "base_uri": "https://localhost:8080/",
          "height": 1000
        }
      },
      "source": [
        "def generate_unequal_pair(i):\n",
        "  np.random.seed(i)\n",
        "  a = np.random.randint(0, 10)\n",
        "  b = np.random.randint(0,10)\n",
        "  while a == b:\n",
        "    b = np.random.randint(0,10)\n",
        "  return a, b\n",
        "\n",
        "# Repeatability\n",
        "np.random.seed(1)\n",
        "set_random_seed(1)\n",
        "\n",
        "# Quick compare 10 sample and 10 control networks\n",
        "for i in range(0,10):\n",
        "  print(\".\", end = \" \")   \n",
        "  # Generate random socially biased or expensive fn,fp pair, setup rww_crossentropy loss function. \n",
        "  on_label, offensive_fp = generate_unequal_pair(i)  \n",
        "  fn_weights, fp_weights = create_rww_categorical_crossentropy(10, \"categorical_crossentropy\", return_weights=True)\n",
        "  fp_weights[on_label, offensive_fp] = 19\n",
        "  loss = create_rww_categorical_crossentropy(10, \"rww_crossentropy\", fn_weights, fp_weights)\n",
        "\n",
        "  # Train control model\n",
        "  model_control = create_model('binary_crossentropy') # K/TF builtin\n",
        "  model_control.fit(x = X_train, y = to_categorical(y_train), epochs=10, batch_size=100, validation_split=0.1, verbose=0)\n",
        "  num_pred_control = num_predictions(model_control.predict(X_test), y_test)\n",
        "  _, acc_control = model_control.evaluate(X_test, to_categorical(y_test))\n",
        "  \n",
        "  # Train experimental model with same epochs / batchsize as control model. \n",
        "  model_test = create_model(loss) # RWW version\n",
        "  model_test.fit(x = X_train, y = to_categorical(y_train), epochs=10, batch_size=100, validation_split=0.1, verbose=0)  \n",
        "  num_pred_test = num_predictions(model_test.predict(X_test), y_test)\n",
        "  _, acc_test = model_test.evaluate(X_test, to_categorical(y_test), verbose=0)\n",
        "\n",
        "  print(\"For test (fn:fp):(\" + str(on_label) + \",\" + \\\n",
        "        str(offensive_fp) + \"): FPs from (control, experimental): (\" + \\\n",
        "        str(num_pred_control[on_label, offensive_fp]) + \",\" +\\\n",
        "        str(num_pred_test[on_label, offensive_fp]) + \\\n",
        "        \"); Accuracy from (control, experimental):\" + \\\n",
        "        '{:0.4f}'.format(acc_control) + \",\", '{:0.4f}'.format(acc_test) + \")\")"
      ],
      "execution_count": 0,
      "outputs": [
        {
          "output_type": "stream",
          "text": [
            ". Train on 47250 samples, validate on 5250 samples\n",
            "Epoch 1/10\n",
            "47250/47250 [==============================] - 3s 64us/step - loss: 0.0745 - categorical_accuracy: 0.8695 - val_loss: 0.0421 - val_categorical_accuracy: 0.9270\n",
            "Epoch 2/10\n",
            "47250/47250 [==============================] - 3s 56us/step - loss: 0.0349 - categorical_accuracy: 0.9401 - val_loss: 0.0335 - val_categorical_accuracy: 0.9451\n",
            "Epoch 3/10\n",
            "47250/47250 [==============================] - 3s 57us/step - loss: 0.0277 - categorical_accuracy: 0.9539 - val_loss: 0.0288 - val_categorical_accuracy: 0.9510\n",
            "Epoch 4/10\n",
            "47250/47250 [==============================] - 3s 57us/step - loss: 0.0237 - categorical_accuracy: 0.9607 - val_loss: 0.0259 - val_categorical_accuracy: 0.9571\n",
            "Epoch 5/10\n",
            "47250/47250 [==============================] - 3s 55us/step - loss: 0.0204 - categorical_accuracy: 0.9658 - val_loss: 0.0249 - val_categorical_accuracy: 0.9592\n",
            "Epoch 6/10\n",
            "47250/47250 [==============================] - 3s 57us/step - loss: 0.0181 - categorical_accuracy: 0.9704 - val_loss: 0.0230 - val_categorical_accuracy: 0.9646\n",
            "Epoch 7/10\n",
            "47250/47250 [==============================] - 3s 57us/step - loss: 0.0159 - categorical_accuracy: 0.9738 - val_loss: 0.0227 - val_categorical_accuracy: 0.9621\n",
            "Epoch 8/10\n",
            "47250/47250 [==============================] - 3s 57us/step - loss: 0.0144 - categorical_accuracy: 0.9765 - val_loss: 0.0210 - val_categorical_accuracy: 0.9674\n",
            "Epoch 9/10\n",
            "47250/47250 [==============================] - 3s 57us/step - loss: 0.0132 - categorical_accuracy: 0.9785 - val_loss: 0.0232 - val_categorical_accuracy: 0.9640\n",
            "Epoch 10/10\n",
            "47250/47250 [==============================] - 3s 56us/step - loss: 0.0119 - categorical_accuracy: 0.9802 - val_loss: 0.0217 - val_categorical_accuracy: 0.9659\n",
            "17500/17500 [==============================] - 1s 56us/step\n",
            "Train on 47250 samples, validate on 5250 samples\n",
            "Epoch 1/10\n",
            "47250/47250 [==============================] - 3s 54us/step - loss: 0.0557 - categorical_accuracy: 0.8430 - val_loss: 0.0296 - val_categorical_accuracy: 0.9211\n",
            "Epoch 2/10\n",
            "47250/47250 [==============================] - 2s 47us/step - loss: 0.0230 - categorical_accuracy: 0.9350 - val_loss: 0.0226 - val_categorical_accuracy: 0.9398\n",
            "Epoch 3/10\n",
            "47250/47250 [==============================] - 2s 46us/step - loss: 0.0178 - categorical_accuracy: 0.9487 - val_loss: 0.0192 - val_categorical_accuracy: 0.9501\n",
            "Epoch 4/10\n",
            "47250/47250 [==============================] - 2s 46us/step - loss: 0.0151 - categorical_accuracy: 0.9565 - val_loss: 0.0177 - val_categorical_accuracy: 0.9530\n",
            "Epoch 5/10\n",
            "47250/47250 [==============================] - 2s 46us/step - loss: 0.0133 - categorical_accuracy: 0.9618 - val_loss: 0.0162 - val_categorical_accuracy: 0.9592\n",
            "Epoch 6/10\n",
            "47250/47250 [==============================] - 2s 46us/step - loss: 0.0115 - categorical_accuracy: 0.9670 - val_loss: 0.0161 - val_categorical_accuracy: 0.9571\n",
            "Epoch 7/10\n",
            "47250/47250 [==============================] - 2s 48us/step - loss: 0.0102 - categorical_accuracy: 0.9696 - val_loss: 0.0168 - val_categorical_accuracy: 0.9592\n",
            "Epoch 8/10\n",
            "47250/47250 [==============================] - 2s 49us/step - loss: 0.0092 - categorical_accuracy: 0.9729 - val_loss: 0.0144 - val_categorical_accuracy: 0.9659\n",
            "Epoch 9/10\n",
            "47250/47250 [==============================] - 2s 48us/step - loss: 0.0085 - categorical_accuracy: 0.9750 - val_loss: 0.0143 - val_categorical_accuracy: 0.9615\n",
            "Epoch 10/10\n",
            "47250/47250 [==============================] - 2s 47us/step - loss: 0.0076 - categorical_accuracy: 0.9776 - val_loss: 0.0146 - val_categorical_accuracy: 0.9648\n",
            "For test (fn:fp):(5,0): FPs from (control, experimental): (1.0,1.0); Accuracy from (control, experimental):0.9640, 0.9614)\n",
            ". Train on 47250 samples, validate on 5250 samples\n",
            "Epoch 1/10\n",
            "47250/47250 [==============================] - 3s 70us/step - loss: 0.0794 - categorical_accuracy: 0.8568 - val_loss: 0.0457 - val_categorical_accuracy: 0.9244\n",
            "Epoch 2/10\n",
            "47250/47250 [==============================] - 3s 56us/step - loss: 0.0368 - categorical_accuracy: 0.9373 - val_loss: 0.0361 - val_categorical_accuracy: 0.9390\n",
            "Epoch 3/10\n",
            "47250/47250 [==============================] - 3s 57us/step - loss: 0.0288 - categorical_accuracy: 0.9519 - val_loss: 0.0299 - val_categorical_accuracy: 0.9505\n",
            "Epoch 4/10\n",
            "47250/47250 [==============================] - 3s 56us/step - loss: 0.0242 - categorical_accuracy: 0.9603 - val_loss: 0.0270 - val_categorical_accuracy: 0.9541\n",
            "Epoch 5/10\n",
            "47250/47250 [==============================] - 3s 56us/step - loss: 0.0209 - categorical_accuracy: 0.9660 - val_loss: 0.0258 - val_categorical_accuracy: 0.9571\n",
            "Epoch 6/10\n",
            "47250/47250 [==============================] - 3s 58us/step - loss: 0.0185 - categorical_accuracy: 0.9692 - val_loss: 0.0249 - val_categorical_accuracy: 0.9596\n",
            "Epoch 7/10\n",
            "47250/47250 [==============================] - 3s 57us/step - loss: 0.0164 - categorical_accuracy: 0.9735 - val_loss: 0.0230 - val_categorical_accuracy: 0.9632\n",
            "Epoch 8/10\n",
            "47250/47250 [==============================] - 3s 55us/step - loss: 0.0148 - categorical_accuracy: 0.9758 - val_loss: 0.0214 - val_categorical_accuracy: 0.9659\n",
            "Epoch 9/10\n",
            "47250/47250 [==============================] - 3s 55us/step - loss: 0.0134 - categorical_accuracy: 0.9786 - val_loss: 0.0218 - val_categorical_accuracy: 0.9663\n",
            "Epoch 10/10\n",
            "47250/47250 [==============================] - 3s 56us/step - loss: 0.0120 - categorical_accuracy: 0.9806 - val_loss: 0.0204 - val_categorical_accuracy: 0.9678\n",
            "17500/17500 [==============================] - 1s 55us/step\n",
            "Train on 47250 samples, validate on 5250 samples\n",
            "Epoch 1/10\n",
            "47250/47250 [==============================] - 3s 55us/step - loss: 0.0550 - categorical_accuracy: 0.8539 - val_loss: 0.0294 - val_categorical_accuracy: 0.9202\n",
            "Epoch 2/10\n",
            "47250/47250 [==============================] - 2s 47us/step - loss: 0.0240 - categorical_accuracy: 0.9343 - val_loss: 0.0254 - val_categorical_accuracy: 0.9383\n",
            "Epoch 3/10\n",
            "47250/47250 [==============================] - 2s 46us/step - loss: 0.0183 - categorical_accuracy: 0.9488 - val_loss: 0.0191 - val_categorical_accuracy: 0.9484\n",
            "Epoch 4/10\n",
            "47250/47250 [==============================] - 2s 47us/step - loss: 0.0154 - categorical_accuracy: 0.9560 - val_loss: 0.0172 - val_categorical_accuracy: 0.9524\n",
            "Epoch 5/10\n",
            "47250/47250 [==============================] - 2s 47us/step - loss: 0.0133 - categorical_accuracy: 0.9621 - val_loss: 0.0158 - val_categorical_accuracy: 0.9579\n",
            "Epoch 6/10\n",
            "47250/47250 [==============================] - 2s 48us/step - loss: 0.0112 - categorical_accuracy: 0.9675 - val_loss: 0.0162 - val_categorical_accuracy: 0.9619\n",
            "Epoch 7/10\n",
            "47250/47250 [==============================] - 2s 46us/step - loss: 0.0103 - categorical_accuracy: 0.9701 - val_loss: 0.0154 - val_categorical_accuracy: 0.9613\n",
            "Epoch 8/10\n",
            "47250/47250 [==============================] - 2s 46us/step - loss: 0.0091 - categorical_accuracy: 0.9735 - val_loss: 0.0152 - val_categorical_accuracy: 0.9644\n",
            "Epoch 9/10\n",
            "47250/47250 [==============================] - 2s 48us/step - loss: 0.0088 - categorical_accuracy: 0.9746 - val_loss: 0.0138 - val_categorical_accuracy: 0.9634\n",
            "Epoch 10/10\n",
            "47250/47250 [==============================] - 2s 47us/step - loss: 0.0074 - categorical_accuracy: 0.9783 - val_loss: 0.0142 - val_categorical_accuracy: 0.9606\n",
            "For test (fn:fp):(5,8): FPs from (control, experimental): (7.0,3.0); Accuracy from (control, experimental):0.9646, 0.9562)\n",
            ". Train on 47250 samples, validate on 5250 samples\n",
            "Epoch 1/10\n",
            "47250/47250 [==============================] - 3s 66us/step - loss: 0.0757 - categorical_accuracy: 0.8694 - val_loss: 0.0442 - val_categorical_accuracy: 0.9291\n",
            "Epoch 2/10\n",
            "47250/47250 [==============================] - 3s 56us/step - loss: 0.0358 - categorical_accuracy: 0.9391 - val_loss: 0.0348 - val_categorical_accuracy: 0.9450\n",
            "Epoch 3/10\n",
            "47250/47250 [==============================] - 3s 57us/step - loss: 0.0282 - categorical_accuracy: 0.9531 - val_loss: 0.0288 - val_categorical_accuracy: 0.9528\n",
            "Epoch 4/10\n",
            "47250/47250 [==============================] - 3s 53us/step - loss: 0.0232 - categorical_accuracy: 0.9616 - val_loss: 0.0271 - val_categorical_accuracy: 0.9573\n",
            "Epoch 5/10\n",
            "47250/47250 [==============================] - 3s 57us/step - loss: 0.0198 - categorical_accuracy: 0.9674 - val_loss: 0.0240 - val_categorical_accuracy: 0.9610\n",
            "Epoch 6/10\n",
            "47250/47250 [==============================] - 3s 56us/step - loss: 0.0172 - categorical_accuracy: 0.9719 - val_loss: 0.0222 - val_categorical_accuracy: 0.9657\n",
            "Epoch 7/10\n",
            "47250/47250 [==============================] - 3s 56us/step - loss: 0.0148 - categorical_accuracy: 0.9760 - val_loss: 0.0211 - val_categorical_accuracy: 0.9657\n",
            "Epoch 8/10\n",
            "47250/47250 [==============================] - 3s 55us/step - loss: 0.0132 - categorical_accuracy: 0.9786 - val_loss: 0.0205 - val_categorical_accuracy: 0.9661\n",
            "Epoch 9/10\n",
            "47250/47250 [==============================] - 3s 56us/step - loss: 0.0119 - categorical_accuracy: 0.9806 - val_loss: 0.0199 - val_categorical_accuracy: 0.9676\n",
            "Epoch 10/10\n",
            "47250/47250 [==============================] - 3s 58us/step - loss: 0.0104 - categorical_accuracy: 0.9830 - val_loss: 0.0201 - val_categorical_accuracy: 0.9693\n",
            "17500/17500 [==============================] - 1s 60us/step\n",
            "Train on 47250 samples, validate on 5250 samples\n",
            "Epoch 1/10\n",
            "47250/47250 [==============================] - 3s 62us/step - loss: 0.0517 - categorical_accuracy: 0.8541 - val_loss: 0.0351 - val_categorical_accuracy: 0.9023\n",
            "Epoch 2/10\n",
            "47250/47250 [==============================] - 2s 50us/step - loss: 0.0229 - categorical_accuracy: 0.9364 - val_loss: 0.0230 - val_categorical_accuracy: 0.9387\n",
            "Epoch 3/10\n",
            "47250/47250 [==============================] - 2s 47us/step - loss: 0.0179 - categorical_accuracy: 0.9504 - val_loss: 0.0195 - val_categorical_accuracy: 0.9501\n",
            "Epoch 4/10\n",
            "47250/47250 [==============================] - 2s 48us/step - loss: 0.0150 - categorical_accuracy: 0.9581 - val_loss: 0.0167 - val_categorical_accuracy: 0.9541\n",
            "Epoch 5/10\n",
            "47250/47250 [==============================] - 2s 47us/step - loss: 0.0129 - categorical_accuracy: 0.9639 - val_loss: 0.0171 - val_categorical_accuracy: 0.9512\n",
            "Epoch 6/10\n",
            "47250/47250 [==============================] - 2s 49us/step - loss: 0.0113 - categorical_accuracy: 0.9677 - val_loss: 0.0146 - val_categorical_accuracy: 0.9579\n",
            "Epoch 7/10\n",
            "47250/47250 [==============================] - 2s 48us/step - loss: 0.0101 - categorical_accuracy: 0.9715 - val_loss: 0.0145 - val_categorical_accuracy: 0.9598\n",
            "Epoch 8/10\n",
            "47250/47250 [==============================] - 2s 47us/step - loss: 0.0090 - categorical_accuracy: 0.9745 - val_loss: 0.0127 - val_categorical_accuracy: 0.9629\n",
            "Epoch 9/10\n",
            "47250/47250 [==============================] - 2s 48us/step - loss: 0.0080 - categorical_accuracy: 0.9767 - val_loss: 0.0127 - val_categorical_accuracy: 0.9642\n",
            "Epoch 10/10\n",
            "47250/47250 [==============================] - 2s 47us/step - loss: 0.0073 - categorical_accuracy: 0.9792 - val_loss: 0.0126 - val_categorical_accuracy: 0.9646\n",
            "For test (fn:fp):(8,6): FPs from (control, experimental): (7.0,2.0); Accuracy from (control, experimental):0.9653, 0.9622)\n",
            ". Train on 47250 samples, validate on 5250 samples\n",
            "Epoch 1/10\n",
            "47250/47250 [==============================] - 3s 69us/step - loss: 0.0786 - categorical_accuracy: 0.8634 - val_loss: 0.0439 - val_categorical_accuracy: 0.9301\n",
            "Epoch 2/10\n",
            "47250/47250 [==============================] - 3s 56us/step - loss: 0.0361 - categorical_accuracy: 0.9380 - val_loss: 0.0337 - val_categorical_accuracy: 0.9434\n",
            "Epoch 3/10\n",
            "47250/47250 [==============================] - 3s 56us/step - loss: 0.0278 - categorical_accuracy: 0.9531 - val_loss: 0.0287 - val_categorical_accuracy: 0.9524\n",
            "Epoch 4/10\n",
            "47250/47250 [==============================] - 3s 55us/step - loss: 0.0232 - categorical_accuracy: 0.9613 - val_loss: 0.0259 - val_categorical_accuracy: 0.9585\n",
            "Epoch 5/10\n",
            "47250/47250 [==============================] - 3s 57us/step - loss: 0.0196 - categorical_accuracy: 0.9681 - val_loss: 0.0241 - val_categorical_accuracy: 0.9602\n",
            "Epoch 6/10\n",
            "47250/47250 [==============================] - 3s 55us/step - loss: 0.0174 - categorical_accuracy: 0.9708 - val_loss: 0.0240 - val_categorical_accuracy: 0.9589\n",
            "Epoch 7/10\n",
            "47250/47250 [==============================] - 2s 53us/step - loss: 0.0154 - categorical_accuracy: 0.9744 - val_loss: 0.0225 - val_categorical_accuracy: 0.9625\n",
            "Epoch 8/10\n",
            "47250/47250 [==============================] - 3s 56us/step - loss: 0.0139 - categorical_accuracy: 0.9775 - val_loss: 0.0225 - val_categorical_accuracy: 0.9648\n",
            "Epoch 9/10\n",
            "47250/47250 [==============================] - 3s 56us/step - loss: 0.0126 - categorical_accuracy: 0.9794 - val_loss: 0.0211 - val_categorical_accuracy: 0.9686\n",
            "Epoch 10/10\n",
            "47250/47250 [==============================] - 3s 57us/step - loss: 0.0114 - categorical_accuracy: 0.9815 - val_loss: 0.0204 - val_categorical_accuracy: 0.9691\n",
            "17500/17500 [==============================] - 1s 56us/step\n",
            "Train on 47250 samples, validate on 5250 samples\n",
            "Epoch 1/10\n",
            "47250/47250 [==============================] - 3s 62us/step - loss: 0.0538 - categorical_accuracy: 0.8509 - val_loss: 0.0289 - val_categorical_accuracy: 0.9238\n",
            "Epoch 2/10\n",
            "25700/47250 [===============>..............] - ETA: 1s - loss: 0.0240 - categorical_accuracy: 0.9346"
          ],
          "name": "stdout"
        },
        {
          "output_type": "error",
          "ename": "KeyboardInterrupt",
          "evalue": "ignored",
          "traceback": [
            "\u001b[0;31m---------------------------------------------------------------------------\u001b[0m",
            "\u001b[0;31mKeyboardInterrupt\u001b[0m                         Traceback (most recent call last)",
            "\u001b[0;32m<ipython-input-10-8c76f7569d4a>\u001b[0m in \u001b[0;36m<module>\u001b[0;34m()\u001b[0m\n\u001b[1;32m     28\u001b[0m   \u001b[0;31m# Train experimental model with same epochs / batchsize as control model.\u001b[0m\u001b[0;34m\u001b[0m\u001b[0;34m\u001b[0m\u001b[0;34m\u001b[0m\u001b[0m\n\u001b[1;32m     29\u001b[0m   \u001b[0mmodel_test\u001b[0m \u001b[0;34m=\u001b[0m \u001b[0mcreate_model\u001b[0m\u001b[0;34m(\u001b[0m\u001b[0mloss\u001b[0m\u001b[0;34m)\u001b[0m \u001b[0;31m# RWW version\u001b[0m\u001b[0;34m\u001b[0m\u001b[0;34m\u001b[0m\u001b[0m\n\u001b[0;32m---> 30\u001b[0;31m   \u001b[0mmodel_test\u001b[0m\u001b[0;34m.\u001b[0m\u001b[0mfit\u001b[0m\u001b[0;34m(\u001b[0m\u001b[0mx\u001b[0m \u001b[0;34m=\u001b[0m \u001b[0mX_train\u001b[0m\u001b[0;34m,\u001b[0m \u001b[0my\u001b[0m \u001b[0;34m=\u001b[0m \u001b[0mto_categorical\u001b[0m\u001b[0;34m(\u001b[0m\u001b[0my_train\u001b[0m\u001b[0;34m)\u001b[0m\u001b[0;34m,\u001b[0m \u001b[0mepochs\u001b[0m\u001b[0;34m=\u001b[0m\u001b[0;36m10\u001b[0m\u001b[0;34m,\u001b[0m \u001b[0mbatch_size\u001b[0m\u001b[0;34m=\u001b[0m\u001b[0;36m100\u001b[0m\u001b[0;34m,\u001b[0m \u001b[0mvalidation_split\u001b[0m\u001b[0;34m=\u001b[0m\u001b[0;36m0.1\u001b[0m\u001b[0;34m,\u001b[0m \u001b[0mverbose\u001b[0m\u001b[0;34m=\u001b[0m\u001b[0;36m1\u001b[0m\u001b[0;34m)\u001b[0m\u001b[0;34m\u001b[0m\u001b[0;34m\u001b[0m\u001b[0m\n\u001b[0m\u001b[1;32m     31\u001b[0m   \u001b[0mnum_pred_test\u001b[0m \u001b[0;34m=\u001b[0m \u001b[0mnum_predictions\u001b[0m\u001b[0;34m(\u001b[0m\u001b[0mmodel_test\u001b[0m\u001b[0;34m.\u001b[0m\u001b[0mpredict\u001b[0m\u001b[0;34m(\u001b[0m\u001b[0mX_test\u001b[0m\u001b[0;34m)\u001b[0m\u001b[0;34m,\u001b[0m \u001b[0my_test\u001b[0m\u001b[0;34m)\u001b[0m\u001b[0;34m\u001b[0m\u001b[0;34m\u001b[0m\u001b[0m\n\u001b[1;32m     32\u001b[0m   \u001b[0m_\u001b[0m\u001b[0;34m,\u001b[0m \u001b[0macc_test\u001b[0m \u001b[0;34m=\u001b[0m \u001b[0mmodel_test\u001b[0m\u001b[0;34m.\u001b[0m\u001b[0mevaluate\u001b[0m\u001b[0;34m(\u001b[0m\u001b[0mX_test\u001b[0m\u001b[0;34m,\u001b[0m \u001b[0mto_categorical\u001b[0m\u001b[0;34m(\u001b[0m\u001b[0my_test\u001b[0m\u001b[0;34m)\u001b[0m\u001b[0;34m,\u001b[0m \u001b[0mverbose\u001b[0m\u001b[0;34m=\u001b[0m\u001b[0;36m0\u001b[0m\u001b[0;34m)\u001b[0m\u001b[0;34m\u001b[0m\u001b[0;34m\u001b[0m\u001b[0m\n",
            "\u001b[0;32m/usr/local/lib/python3.6/dist-packages/keras/engine/training.py\u001b[0m in \u001b[0;36mfit\u001b[0;34m(self, x, y, batch_size, epochs, verbose, callbacks, validation_split, validation_data, shuffle, class_weight, sample_weight, initial_epoch, steps_per_epoch, validation_steps, validation_freq, max_queue_size, workers, use_multiprocessing, **kwargs)\u001b[0m\n\u001b[1;32m   1176\u001b[0m                                         \u001b[0msteps_per_epoch\u001b[0m\u001b[0;34m=\u001b[0m\u001b[0msteps_per_epoch\u001b[0m\u001b[0;34m,\u001b[0m\u001b[0;34m\u001b[0m\u001b[0;34m\u001b[0m\u001b[0m\n\u001b[1;32m   1177\u001b[0m                                         \u001b[0mvalidation_steps\u001b[0m\u001b[0;34m=\u001b[0m\u001b[0mvalidation_steps\u001b[0m\u001b[0;34m,\u001b[0m\u001b[0;34m\u001b[0m\u001b[0;34m\u001b[0m\u001b[0m\n\u001b[0;32m-> 1178\u001b[0;31m                                         validation_freq=validation_freq)\n\u001b[0m\u001b[1;32m   1179\u001b[0m \u001b[0;34m\u001b[0m\u001b[0m\n\u001b[1;32m   1180\u001b[0m     def evaluate(self,\n",
            "\u001b[0;32m/usr/local/lib/python3.6/dist-packages/keras/engine/training_arrays.py\u001b[0m in \u001b[0;36mfit_loop\u001b[0;34m(model, fit_function, fit_inputs, out_labels, batch_size, epochs, verbose, callbacks, val_function, val_inputs, shuffle, callback_metrics, initial_epoch, steps_per_epoch, validation_steps, validation_freq)\u001b[0m\n\u001b[1;32m    202\u001b[0m                     \u001b[0mins_batch\u001b[0m\u001b[0;34m[\u001b[0m\u001b[0mi\u001b[0m\u001b[0;34m]\u001b[0m \u001b[0;34m=\u001b[0m \u001b[0mins_batch\u001b[0m\u001b[0;34m[\u001b[0m\u001b[0mi\u001b[0m\u001b[0;34m]\u001b[0m\u001b[0;34m.\u001b[0m\u001b[0mtoarray\u001b[0m\u001b[0;34m(\u001b[0m\u001b[0;34m)\u001b[0m\u001b[0;34m\u001b[0m\u001b[0;34m\u001b[0m\u001b[0m\n\u001b[1;32m    203\u001b[0m \u001b[0;34m\u001b[0m\u001b[0m\n\u001b[0;32m--> 204\u001b[0;31m                 \u001b[0mouts\u001b[0m \u001b[0;34m=\u001b[0m \u001b[0mfit_function\u001b[0m\u001b[0;34m(\u001b[0m\u001b[0mins_batch\u001b[0m\u001b[0;34m)\u001b[0m\u001b[0;34m\u001b[0m\u001b[0;34m\u001b[0m\u001b[0m\n\u001b[0m\u001b[1;32m    205\u001b[0m                 \u001b[0mouts\u001b[0m \u001b[0;34m=\u001b[0m \u001b[0mto_list\u001b[0m\u001b[0;34m(\u001b[0m\u001b[0mouts\u001b[0m\u001b[0;34m)\u001b[0m\u001b[0;34m\u001b[0m\u001b[0;34m\u001b[0m\u001b[0m\n\u001b[1;32m    206\u001b[0m                 \u001b[0;32mfor\u001b[0m \u001b[0ml\u001b[0m\u001b[0;34m,\u001b[0m \u001b[0mo\u001b[0m \u001b[0;32min\u001b[0m \u001b[0mzip\u001b[0m\u001b[0;34m(\u001b[0m\u001b[0mout_labels\u001b[0m\u001b[0;34m,\u001b[0m \u001b[0mouts\u001b[0m\u001b[0;34m)\u001b[0m\u001b[0;34m:\u001b[0m\u001b[0;34m\u001b[0m\u001b[0;34m\u001b[0m\u001b[0m\n",
            "\u001b[0;32m/usr/local/lib/python3.6/dist-packages/keras/backend/tensorflow_backend.py\u001b[0m in \u001b[0;36m__call__\u001b[0;34m(self, inputs)\u001b[0m\n\u001b[1;32m   2977\u001b[0m                     \u001b[0;32mreturn\u001b[0m \u001b[0mself\u001b[0m\u001b[0;34m.\u001b[0m\u001b[0m_legacy_call\u001b[0m\u001b[0;34m(\u001b[0m\u001b[0minputs\u001b[0m\u001b[0;34m)\u001b[0m\u001b[0;34m\u001b[0m\u001b[0;34m\u001b[0m\u001b[0m\n\u001b[1;32m   2978\u001b[0m \u001b[0;34m\u001b[0m\u001b[0m\n\u001b[0;32m-> 2979\u001b[0;31m             \u001b[0;32mreturn\u001b[0m \u001b[0mself\u001b[0m\u001b[0;34m.\u001b[0m\u001b[0m_call\u001b[0m\u001b[0;34m(\u001b[0m\u001b[0minputs\u001b[0m\u001b[0;34m)\u001b[0m\u001b[0;34m\u001b[0m\u001b[0;34m\u001b[0m\u001b[0m\n\u001b[0m\u001b[1;32m   2980\u001b[0m         \u001b[0;32melse\u001b[0m\u001b[0;34m:\u001b[0m\u001b[0;34m\u001b[0m\u001b[0;34m\u001b[0m\u001b[0m\n\u001b[1;32m   2981\u001b[0m             \u001b[0;32mif\u001b[0m \u001b[0mpy_any\u001b[0m\u001b[0;34m(\u001b[0m\u001b[0mis_tensor\u001b[0m\u001b[0;34m(\u001b[0m\u001b[0mx\u001b[0m\u001b[0;34m)\u001b[0m \u001b[0;32mfor\u001b[0m \u001b[0mx\u001b[0m \u001b[0;32min\u001b[0m \u001b[0minputs\u001b[0m\u001b[0;34m)\u001b[0m\u001b[0;34m:\u001b[0m\u001b[0;34m\u001b[0m\u001b[0;34m\u001b[0m\u001b[0m\n",
            "\u001b[0;32m/usr/local/lib/python3.6/dist-packages/keras/backend/tensorflow_backend.py\u001b[0m in \u001b[0;36m_call\u001b[0;34m(self, inputs)\u001b[0m\n\u001b[1;32m   2935\u001b[0m             \u001b[0mfetched\u001b[0m \u001b[0;34m=\u001b[0m \u001b[0mself\u001b[0m\u001b[0;34m.\u001b[0m\u001b[0m_callable_fn\u001b[0m\u001b[0;34m(\u001b[0m\u001b[0;34m*\u001b[0m\u001b[0marray_vals\u001b[0m\u001b[0;34m,\u001b[0m \u001b[0mrun_metadata\u001b[0m\u001b[0;34m=\u001b[0m\u001b[0mself\u001b[0m\u001b[0;34m.\u001b[0m\u001b[0mrun_metadata\u001b[0m\u001b[0;34m)\u001b[0m\u001b[0;34m\u001b[0m\u001b[0;34m\u001b[0m\u001b[0m\n\u001b[1;32m   2936\u001b[0m         \u001b[0;32melse\u001b[0m\u001b[0;34m:\u001b[0m\u001b[0;34m\u001b[0m\u001b[0;34m\u001b[0m\u001b[0m\n\u001b[0;32m-> 2937\u001b[0;31m             \u001b[0mfetched\u001b[0m \u001b[0;34m=\u001b[0m \u001b[0mself\u001b[0m\u001b[0;34m.\u001b[0m\u001b[0m_callable_fn\u001b[0m\u001b[0;34m(\u001b[0m\u001b[0;34m*\u001b[0m\u001b[0marray_vals\u001b[0m\u001b[0;34m)\u001b[0m\u001b[0;34m\u001b[0m\u001b[0;34m\u001b[0m\u001b[0m\n\u001b[0m\u001b[1;32m   2938\u001b[0m         \u001b[0;32mreturn\u001b[0m \u001b[0mfetched\u001b[0m\u001b[0;34m[\u001b[0m\u001b[0;34m:\u001b[0m\u001b[0mlen\u001b[0m\u001b[0;34m(\u001b[0m\u001b[0mself\u001b[0m\u001b[0;34m.\u001b[0m\u001b[0moutputs\u001b[0m\u001b[0;34m)\u001b[0m\u001b[0;34m]\u001b[0m\u001b[0;34m\u001b[0m\u001b[0;34m\u001b[0m\u001b[0m\n\u001b[1;32m   2939\u001b[0m \u001b[0;34m\u001b[0m\u001b[0m\n",
            "\u001b[0;32m/usr/local/lib/python3.6/dist-packages/tensorflow/python/client/session.py\u001b[0m in \u001b[0;36m__call__\u001b[0;34m(self, *args, **kwargs)\u001b[0m\n\u001b[1;32m   1456\u001b[0m         ret = tf_session.TF_SessionRunCallable(self._session._session,\n\u001b[1;32m   1457\u001b[0m                                                \u001b[0mself\u001b[0m\u001b[0;34m.\u001b[0m\u001b[0m_handle\u001b[0m\u001b[0;34m,\u001b[0m \u001b[0margs\u001b[0m\u001b[0;34m,\u001b[0m\u001b[0;34m\u001b[0m\u001b[0;34m\u001b[0m\u001b[0m\n\u001b[0;32m-> 1458\u001b[0;31m                                                run_metadata_ptr)\n\u001b[0m\u001b[1;32m   1459\u001b[0m         \u001b[0;32mif\u001b[0m \u001b[0mrun_metadata\u001b[0m\u001b[0;34m:\u001b[0m\u001b[0;34m\u001b[0m\u001b[0;34m\u001b[0m\u001b[0m\n\u001b[1;32m   1460\u001b[0m           \u001b[0mproto_data\u001b[0m \u001b[0;34m=\u001b[0m \u001b[0mtf_session\u001b[0m\u001b[0;34m.\u001b[0m\u001b[0mTF_GetBuffer\u001b[0m\u001b[0;34m(\u001b[0m\u001b[0mrun_metadata_ptr\u001b[0m\u001b[0;34m)\u001b[0m\u001b[0;34m\u001b[0m\u001b[0;34m\u001b[0m\u001b[0m\n",
            "\u001b[0;31mKeyboardInterrupt\u001b[0m: "
          ]
        }
      ]
    },
    {
      "cell_type": "code",
      "metadata": {
        "id": "BguZppn4sMfJ",
        "colab_type": "code",
        "outputId": "90231568-dc42-4846-a9cf-3ade6c700158",
        "colab": {
          "base_uri": "https://localhost:8080/",
          "height": 34
        }
      },
      "source": [
        "# Train 90 control and 90 experimental models. \n",
        "\n",
        "# Repeatability\n",
        "np.random.seed(1)\n",
        "set_random_seed(1)\n",
        "\n",
        "accs = []\n",
        "fps = []\n",
        "preds = []\n",
        "ws = []\n",
        "\n",
        "for i in range(0,10):\n",
        "  for j in range (0,10):\n",
        "    if i == j: \n",
        "      continue\n",
        "\n",
        "    print(\".\", end = \" \")   \n",
        "    fn_weights, fp_weights = create_rww_categorical_crossentropy(10, \"categorical_crossentropy\", return_weights=True)\n",
        "    fp_weights[i, j] = 19\n",
        "    loss = create_rww_categorical_crossentropy(10, \"rww_crossentropy\", fn_weights, fp_weights)\n",
        "\n",
        "    # Train control model\n",
        "    model_control = create_model('binary_crossentropy') # K/TF builtin\n",
        "    model_control.fit(x = X_train, y = to_categorical(y_train), epochs=10, batch_size=100, validation_split=0.1, verbose=0)\n",
        "    num_pred_control = num_predictions(model_control.predict(X_test, verbose=0), y_test)\n",
        "    _, acc_control = model_control.evaluate(X_test, to_categorical(y_test), verbose=0)\n",
        " \n",
        "    # Train experimental model with same epochs / batchsize as control model. \n",
        "    model_test = create_model(loss) # RWW version\n",
        "    model_test.fit(x = X_train, y = to_categorical(y_train), epochs=10, batch_size=100, validation_split=0.1, verbose=0)  \n",
        "    num_pred_test = num_predictions(model_test.predict(X_test, verbose=0), y_test)\n",
        "    _, acc_test = model_test.evaluate(X_test, to_categorical(y_test), verbose=0)\n",
        "\n",
        "    accs.append((acc_control, acc_test))\n",
        "    fps.append((num_pred_control[i, j], num_pred_test[i,j]))\n",
        "    preds.append((num_pred_control, num_pred_test))\n",
        "    ws.append((fn_weights, fp_weights))"
      ],
      "execution_count": 0,
      "outputs": [
        {
          "output_type": "stream",
          "text": [
            ". . . . . . . . . . . . . . . . . . . . . . . . . . . . . . . . . . . . . . . . . . . . . . . . . . . . . . . . . . . . . . . . . . . . . . . . . . . . . . . . . . . . . . . . . . "
          ],
          "name": "stdout"
        }
      ]
    },
    {
      "cell_type": "code",
      "metadata": {
        "id": "MPb0t2YA-xs7",
        "colab_type": "code",
        "outputId": "6f5a97c2-07f5-41d0-d728-ce14f4429d7e",
        "colab": {
          "base_uri": "https://localhost:8080/",
          "height": 34
        }
      },
      "source": [
        "print(fps.shape)"
      ],
      "execution_count": 0,
      "outputs": [
        {
          "output_type": "stream",
          "text": [
            "(90, 2)\n"
          ],
          "name": "stdout"
        }
      ]
    },
    {
      "cell_type": "code",
      "metadata": {
        "id": "ALM2izF7lQVs",
        "colab_type": "code",
        "outputId": "b06c3661-4906-428c-9a68-e4f45314ea92",
        "colab": {
          "base_uri": "https://localhost:8080/",
          "height": 85
        }
      },
      "source": [
        "# Perform t-test on results (number of mislabels). We use Welch's test since the variances are different. \n",
        "\n",
        "fps = np.array(fps)\n",
        "statistic, pvalue = sp.stats.ttest_ind(fps[:,0], fps[:,1], equal_var=False)\n",
        "\n",
        "print(np.mean(fps[:,0]))\n",
        "print(np.mean(fps[:,1]))\n",
        "\n",
        "print(statistic)\n",
        "print(pvalue)"
      ],
      "execution_count": 0,
      "outputs": [
        {
          "output_type": "stream",
          "text": [
            "6.511111111111111\n",
            "2.533333333333333\n",
            "5.739868646596386\n",
            "6.979155459424445e-08\n"
          ],
          "name": "stdout"
        }
      ]
    },
    {
      "cell_type": "code",
      "metadata": {
        "id": "uIP-u94mpcWZ",
        "colab_type": "code",
        "outputId": "d44b3327-c81a-457b-b098-e0cb0aaeae69",
        "colab": {
          "base_uri": "https://localhost:8080/",
          "height": 85
        }
      },
      "source": [
        "# Perform t-test on errors\n",
        "\n",
        "accs = np.array(accs)\n",
        "statistic, pvalue = sp.stats.ttest_ind(1. - accs[:,0], 1. - accs[:,1])\n",
        "\n",
        "print(np.mean(1. - accs[:,0]))\n",
        "print(np.mean(1. - accs[:,1]))\n",
        "\n",
        "print(statistic)\n",
        "print(pvalue)"
      ],
      "execution_count": 0,
      "outputs": [
        {
          "output_type": "stream",
          "text": [
            "0.03562285713771032\n",
            "0.03624444443278843\n",
            "-2.232330137956822\n",
            "0.02684018059521198\n"
          ],
          "name": "stdout"
        }
      ]
    },
    {
      "cell_type": "code",
      "metadata": {
        "id": "qWEL1WvxXMny",
        "colab_type": "code",
        "outputId": "a0fc3cc8-53eb-4007-c05c-a9a7e4a0615e",
        "colab": {
          "base_uri": "https://localhost:8080/",
          "height": 85
        }
      },
      "source": [
        "# Calculate Real World Cost\n",
        "def clip_correct(preds):\n",
        "  k = preds.shape[0]\n",
        "  assert k == preds.shape[1]\n",
        "  \n",
        "  anti_eye = 1 - np.eye(k)\n",
        "  return preds * anti_eye # k,k, with the main diagonal masked out to zeros\n",
        "\n",
        "def categorical_real_world_cost(preds, fn_ws, fp_ws):\n",
        "  k = preds.shape[0]\n",
        "  assert k == preds.shape[1]\n",
        "  \n",
        "  false_preds = clip_correct(preds)\n",
        "  fn_cost = np.sum(np.sum(false_preds, axis=-1) * np.sum(fn_ws, axis=-1)) \n",
        "  fp_cost = np.sum(false_preds * fp_ws)\n",
        " \n",
        "  return (fn_cost + fp_cost) / np.sum(preds)\n",
        "\n",
        "def vector_categorical_real_world_cost(m, preds, fn_ws, fp_ws):\n",
        "  retval = np.zeros(m)\n",
        "  for i in range(0,m):\n",
        "    retval[i] = categorical_real_world_cost(preds[i], fn_ws[i], fp_ws[i])\n",
        "  return retval\n",
        "    \n",
        "fn_ws = np.array(ws)[:,0,:,:] # size (90, k, k)\n",
        "fp_ws = np.array(ws)[:,1,:,:] # size (90, k, k)\n",
        "\n",
        "preds_c = np.array(preds)[:,0,:,:] # size (90, k, k)\n",
        "preds_t = np.array(preds)[:,1,:,:] # size (90, k, k)\n",
        "\n",
        "costs_c = vector_categorical_real_world_cost(90, preds_c, fn_ws, fp_ws)\n",
        "costs_t = vector_categorical_real_world_cost(90, preds_t, fn_ws, fp_ws)\n",
        "\n",
        "assert costs_c.shape == (90,)\n",
        "assert costs_t.shape == (90,)\n",
        "\n",
        "print(np.mean(costs_c))\n",
        "print(np.mean(costs_t))\n",
        "\n",
        "statistic, pvalue = sp.stats.ttest_ind(costs_c, costs_t)\n",
        "print(statistic)\n",
        "print(pvalue)\n"
      ],
      "execution_count": 0,
      "outputs": [
        {
          "output_type": "stream",
          "text": [
            "0.04269206349206349\n",
            "0.03899492063492063\n",
            "4.46785326959378\n",
            "1.4015370329833121e-05\n"
          ],
          "name": "stdout"
        }
      ]
    },
    {
      "cell_type": "markdown",
      "metadata": {
        "id": "Pko_2OWPsnIG",
        "colab_type": "text"
      },
      "source": [
        "# Testing against imbalanced binary data\n",
        "\n"
      ]
    },
    {
      "cell_type": "code",
      "metadata": {
        "id": "lTjERIGrBzP9",
        "colab_type": "code",
        "colab": {}
      },
      "source": [
        "# Fetch MNIST dataset\n",
        "\n",
        "# mnist = fetch_openml('mnist_784', cache=False)\n",
        "\n",
        "#Processing on MNIST data\n",
        "X = mnist.data.astype('float32')\n",
        "y = mnist.target.astype('int64')\n",
        "X /= 255.0\n",
        "\n",
        "def create_imbalanced_mnist_data(X, y, target, num_minority):\n",
        "  new_X, new_y = [], []\n",
        "  \n",
        "  mask = y == target\n",
        "  anti_mask = y != target\n",
        "\n",
        "  X_label = X[mask]  \n",
        "  y_label = y[mask]\n",
        "    \n",
        "  X_label = X[mask]\n",
        "  np.random.seed(1)\n",
        "  np.random.shuffle(new_X)\n",
        "  X_label = X_label[0:num_minority,:]\n",
        "  \n",
        "  new_X = np.concatenate([X_label, X[anti_mask]])\n",
        "  new_y = np.concatenate([np.ones((num_minority)), np.zeros(X[anti_mask].shape[0])])\n",
        "  \n",
        "  return new_X, new_y\n",
        "  \n",
        "X, y = create_imbalanced_mnist_data(X, y, 5, 700)\n",
        "\n",
        "X_train, X_test, y_train, y_test = train_test_split(X, y, test_size=0.25, random_state=1)"
      ],
      "execution_count": 0,
      "outputs": []
    },
    {
      "cell_type": "code",
      "metadata": {
        "id": "TQ0fRWhdzPju",
        "colab_type": "code",
        "outputId": "e596d780-5601-44dc-9439-a4316791d679",
        "colab": {
          "base_uri": "https://localhost:8080/",
          "height": 1000
        }
      },
      "source": [
        "def create_binary_model(loss):\n",
        "  np.random.seed(1)\n",
        "  set_random_seed(1)\n",
        "\n",
        "  k_y = k_x = Input(shape=(784,))\n",
        "  # k_y = Dense(100, activation='relu')(k_y)\n",
        "  k_y = Dense(50, activation='relu')(k_y)\n",
        "  k_y = Dense(10, activation='relu')(k_y)\n",
        "  k_y = Dense(1, activation='sigmoid')(k_y)\n",
        "\n",
        "  model = Model(inputs=k_x, outputs=k_y)\n",
        "  model.compile(optimizer='adam', loss=loss, metrics=['binary_accuracy'])\n",
        "  return model\n",
        "  \n",
        "FN_MARGINAL_COST = 2000 # E.g. if the disease is missed, it will get worse, costing an extra $2000 in future medical costs and pain and suffering\n",
        "FP_MARGINAL_COST = 100 # E.g. marginal cost of FP is the cost of running a second, more expensive test to identify the TN. \n",
        "\n",
        "model_control = create_binary_model('binary_crossentropy')\n",
        "\n",
        "loss = create_rww_binary_crossentropy(FN_MARGINAL_COST, FP_MARGINAL_COST)\n",
        "model_test = create_binary_model(loss)\n",
        "\n",
        "model_control.fit(x = X_train, y = y_train, epochs=10, batch_size=100, validation_split=0.1, verbose=1)  \n",
        "model_test.fit(x = X_train, y = y_train, epochs=10, batch_size=100, validation_split=0.1, verbose=1)  "
      ],
      "execution_count": 0,
      "outputs": [
        {
          "output_type": "stream",
          "text": [
            "WARNING: Logging before flag parsing goes to stderr.\n",
            "W0904 14:34:32.525773 140544463857536 deprecation_wrapper.py:119] From /usr/local/lib/python3.6/dist-packages/keras/backend/tensorflow_backend.py:66: The name tf.get_default_graph is deprecated. Please use tf.compat.v1.get_default_graph instead.\n",
            "\n",
            "W0904 14:34:32.527151 140544463857536 deprecation_wrapper.py:119] From /usr/local/lib/python3.6/dist-packages/keras/backend/tensorflow_backend.py:541: The name tf.placeholder is deprecated. Please use tf.compat.v1.placeholder instead.\n",
            "\n",
            "W0904 14:34:32.536085 140544463857536 deprecation_wrapper.py:119] From /usr/local/lib/python3.6/dist-packages/keras/backend/tensorflow_backend.py:4432: The name tf.random_uniform is deprecated. Please use tf.random.uniform instead.\n",
            "\n",
            "W0904 14:34:32.582772 140544463857536 deprecation_wrapper.py:119] From /usr/local/lib/python3.6/dist-packages/keras/optimizers.py:793: The name tf.train.Optimizer is deprecated. Please use tf.compat.v1.train.Optimizer instead.\n",
            "\n",
            "W0904 14:34:32.606411 140544463857536 deprecation_wrapper.py:119] From /usr/local/lib/python3.6/dist-packages/keras/backend/tensorflow_backend.py:3657: The name tf.log is deprecated. Please use tf.math.log instead.\n",
            "\n",
            "W0904 14:34:32.612926 140544463857536 deprecation.py:323] From /usr/local/lib/python3.6/dist-packages/tensorflow/python/ops/nn_impl.py:180: add_dispatch_support.<locals>.wrapper (from tensorflow.python.ops.array_ops) is deprecated and will be removed in a future version.\n",
            "Instructions for updating:\n",
            "Use tf.where in 2.0, which has the same broadcast rule as np.where\n",
            "W0904 14:34:32.924853 140544463857536 deprecation_wrapper.py:119] From /usr/local/lib/python3.6/dist-packages/keras/backend/tensorflow_backend.py:1033: The name tf.assign_add is deprecated. Please use tf.compat.v1.assign_add instead.\n",
            "\n"
          ],
          "name": "stderr"
        },
        {
          "output_type": "stream",
          "text": [
            "Train on 43461 samples, validate on 4829 samples\n",
            "Epoch 1/10\n",
            "43461/43461 [==============================] - 7s 156us/step - loss: 0.0467 - binary_accuracy: 0.9901 - val_loss: 0.0190 - val_binary_accuracy: 0.9954\n",
            "Epoch 2/10\n",
            "43461/43461 [==============================] - 2s 52us/step - loss: 0.0179 - binary_accuracy: 0.9949 - val_loss: 0.0128 - val_binary_accuracy: 0.9959\n",
            "Epoch 3/10\n",
            "43461/43461 [==============================] - 2s 52us/step - loss: 0.0125 - binary_accuracy: 0.9964 - val_loss: 0.0111 - val_binary_accuracy: 0.9969\n",
            "Epoch 4/10\n",
            "43461/43461 [==============================] - 2s 50us/step - loss: 0.0092 - binary_accuracy: 0.9971 - val_loss: 0.0087 - val_binary_accuracy: 0.9973\n",
            "Epoch 5/10\n",
            "43461/43461 [==============================] - 2s 51us/step - loss: 0.0072 - binary_accuracy: 0.9980 - val_loss: 0.0087 - val_binary_accuracy: 0.9975\n",
            "Epoch 6/10\n",
            "43461/43461 [==============================] - 2s 51us/step - loss: 0.0056 - binary_accuracy: 0.9983 - val_loss: 0.0085 - val_binary_accuracy: 0.9971\n",
            "Epoch 7/10\n",
            "43461/43461 [==============================] - 2s 50us/step - loss: 0.0047 - binary_accuracy: 0.9985 - val_loss: 0.0085 - val_binary_accuracy: 0.9971\n",
            "Epoch 8/10\n",
            "43461/43461 [==============================] - 2s 51us/step - loss: 0.0036 - binary_accuracy: 0.9987 - val_loss: 0.0068 - val_binary_accuracy: 0.9973\n",
            "Epoch 9/10\n",
            "43461/43461 [==============================] - 2s 50us/step - loss: 0.0027 - binary_accuracy: 0.9992 - val_loss: 0.0071 - val_binary_accuracy: 0.9979\n",
            "Epoch 10/10\n",
            "43461/43461 [==============================] - 2s 51us/step - loss: 0.0020 - binary_accuracy: 0.9994 - val_loss: 0.0069 - val_binary_accuracy: 0.9979\n",
            "Train on 43461 samples, validate on 4829 samples\n",
            "Epoch 1/10\n",
            "43461/43461 [==============================] - 2s 46us/step - loss: 22.1240 - binary_accuracy: 0.9809 - val_loss: 9.8240 - val_binary_accuracy: 0.9944\n",
            "Epoch 2/10\n",
            "43461/43461 [==============================] - 2s 42us/step - loss: 8.2935 - binary_accuracy: 0.9885 - val_loss: 7.6753 - val_binary_accuracy: 0.9859\n",
            "Epoch 3/10\n",
            "43461/43461 [==============================] - 2s 42us/step - loss: 5.0757 - binary_accuracy: 0.9915 - val_loss: 6.3181 - val_binary_accuracy: 0.9954\n",
            "Epoch 4/10\n",
            "43461/43461 [==============================] - 2s 42us/step - loss: 3.8092 - binary_accuracy: 0.9937 - val_loss: 4.4588 - val_binary_accuracy: 0.9948\n",
            "Epoch 5/10\n",
            "43461/43461 [==============================] - 2s 42us/step - loss: 2.4137 - binary_accuracy: 0.9957 - val_loss: 5.2061 - val_binary_accuracy: 0.9961\n",
            "Epoch 6/10\n",
            "43461/43461 [==============================] - 2s 43us/step - loss: 1.9559 - binary_accuracy: 0.9964 - val_loss: 5.1953 - val_binary_accuracy: 0.9961\n",
            "Epoch 7/10\n",
            "43461/43461 [==============================] - 2s 43us/step - loss: 1.2849 - binary_accuracy: 0.9979 - val_loss: 4.9977 - val_binary_accuracy: 0.9967\n",
            "Epoch 8/10\n",
            "43461/43461 [==============================] - 2s 42us/step - loss: 1.1510 - binary_accuracy: 0.9979 - val_loss: 5.5850 - val_binary_accuracy: 0.9969\n",
            "Epoch 9/10\n",
            "43461/43461 [==============================] - 2s 42us/step - loss: 0.7412 - binary_accuracy: 0.9985 - val_loss: 6.5791 - val_binary_accuracy: 0.9979\n",
            "Epoch 10/10\n",
            "43461/43461 [==============================] - 2s 42us/step - loss: 1.4869 - binary_accuracy: 0.9974 - val_loss: 6.7924 - val_binary_accuracy: 0.9954\n"
          ],
          "name": "stdout"
        },
        {
          "output_type": "execute_result",
          "data": {
            "text/plain": [
              "<keras.callbacks.History at 0x7fd2aafcbac8>"
            ]
          },
          "metadata": {
            "tags": []
          },
          "execution_count": 7
        }
      ]
    },
    {
      "cell_type": "code",
      "metadata": {
        "id": "ZjcJPMEKFLSK",
        "colab_type": "code",
        "outputId": "9835ccd0-7d74-40a3-d2a0-56d6baae9ee1",
        "colab": {
          "base_uri": "https://localhost:8080/",
          "height": 383
        }
      },
      "source": [
        "def binary_real_world_cost(fn, fp, fn_cost, fp_cost):\n",
        "  return fn*fn_cost + fp*fp_cost\n",
        "\n",
        "def binary_stats(z, y, threshold, fn_cost, fp_cost):\n",
        "  z = np.squeeze(z)\n",
        "\n",
        "  y_pred = z > threshold\n",
        "  p = np.count_nonzero(y)\n",
        "  n = np.count_nonzero(1.-y)\n",
        "\n",
        "  tp = np.count_nonzero(y_pred * y)\n",
        "  fn = np.count_nonzero((1.-y_pred) * y)\n",
        "  tn = np.count_nonzero((1.-y_pred) * (1.-y))\n",
        "  fp = np.count_nonzero(y_pred * (1.-y))\n",
        "\n",
        "  recall = np.float64(tp) / (tp + fn) \n",
        "  precision = np.float64(tp) / (tp + fp)\n",
        "  f1 = np.float64(2 * recall * precision) / (recall + precision)\n",
        "  rwc = (binary_real_world_cost (fn, fp, fn_cost, fp_cost)) / (p+n)\n",
        "  rwb = (p * fn_cost) / (p+n) - rwc\n",
        "  \n",
        "  return p, n, tp, fn, tn, fp, recall, precision, f1, rwc, rwb\n",
        "\n",
        "# This is the algorithm to fine tune the threshold hyperparameter after training. \n",
        "def search_threshold(z, y):\n",
        "  best_t = 0;\n",
        "  best_f1 = 0\n",
        "\n",
        "  data = []\n",
        "  \n",
        "  for i in np.linspace(0.01, .99, num=100):\n",
        "    _, _, _, _, _, _, _, _, f1, _, _ = binary_stats(z, y, i, 0, 0)\n",
        "    data.append((i, f1))\n",
        "    if f1 > best_f1:\n",
        "      best_f1 = f1\n",
        "      best_t = i  \n",
        "  return best_t, data\n",
        "\n",
        "y_pred_c = model_control.predict(X_test)\n",
        "y_pred_t = model_test.predict(X_test)\n",
        "\n",
        "stats_control = binary_stats(y_pred_c, y_test, 0.5, FN_MARGINAL_COST, FP_MARGINAL_COST)\n",
        "best_threshold, data = search_threshold(y_pred_c, y_test)\n",
        "stats_control_adj = binary_stats(y_pred_c, y_test, best_threshold, FN_MARGINAL_COST, FP_MARGINAL_COST)\n",
        "stats_test = binary_stats(y_pred_t, y_test, 0.5, FN_MARGINAL_COST, FP_MARGINAL_COST)\n",
        "\n",
        "print(tabulate([('Control',) + stats_control, \\\n",
        "                ('Control_adj',) + stats_control_adj, \\\n",
        "                ('Experimental',) + stats_test], \\\n",
        "               headers=['P', 'N', 'TP', \"FN\", \"TN\", \"FP\", \"Recall\", \"Precision\", \"F1\", \"Real World Cost\", \"Real World Benefit\"], floatfmt=\".6f\"))\n",
        "\n",
        "plt.plot(np.array(data)[:,0], np.array(data)[:,1])\n",
        "plt.title('F1 Score by Threshhold')\n",
        "# ax.set(xlabel='Threshold', ylabel='F1',\n",
        "#        title='F1 Score by Threshold')"
      ],
      "execution_count": 0,
      "outputs": [
        {
          "output_type": "stream",
          "text": [
            "                P      N    TP    FN     TN    FP    Recall    Precision        F1    Real World Cost    Real World Benefit\n",
            "------------  ---  -----  ----  ----  -----  ----  --------  -----------  --------  -----------------  --------------------\n",
            "Control       180  15917   147    33  15909     8  0.816667     0.948387  0.877612           4.149842             18.214574\n",
            "Control_adj   180  15917   154    26  15906    11  0.855556     0.933333  0.892754           3.298751             19.065664\n",
            "Experimental  180  15917   169    11  15843    74  0.938889     0.695473  0.799054           1.826427             20.537988\n"
          ],
          "name": "stdout"
        },
        {
          "output_type": "execute_result",
          "data": {
            "text/plain": [
              "Text(0.5, 1.0, 'F1 Score by Threshhold')"
            ]
          },
          "metadata": {
            "tags": []
          },
          "execution_count": 8
        },
        {
          "output_type": "display_data",
          "data": {
            "image/png": "[encoded data removed]",
            "text/plain": [
              "<Figure size 432x288 with 1 Axes>"
            ]
          },
          "metadata": {
            "tags": []
          }
        }
      ]
    },
    {
      "cell_type": "markdown",
      "metadata": {
        "id": "yHEB51REPE6U",
        "colab_type": "text"
      },
      "source": [
        "# Graphical Display of Loss Function Mechanics"
      ]
    },
    {
      "cell_type": "code",
      "metadata": {
        "id": "9VASnHSpPPlc",
        "colab_type": "code",
        "outputId": "e031cd0e-d95a-43ce-dfe6-b5e71a265290",
        "colab": {
          "base_uri": "https://localhost:8080/",
          "height": 553
        }
      },
      "source": [
        "def J(z, y):\n",
        "  if (y==1):\n",
        "    return -np.log(z)\n",
        "  elif (y==0):\n",
        "    return -np.log(1-z)\n",
        "  else:\n",
        "    assert false\n",
        "\n",
        "def J_batch(p, n_h, n_t):\n",
        "  m = n_h + n_t\n",
        "  x = np.zeros(m)\n",
        "\n",
        "  for i in range(0,n_h):\n",
        "    x[i] = 1\n",
        "\n",
        "  retval = 0.\n",
        "  for i in range(0, m):\n",
        "    retval += J(p, x[i])\n",
        "  retval /= x.shape[0]\n",
        "  return retval\n",
        "\n",
        "x_and_y = []\n",
        "    \n",
        "for i in np.linspace(0.0001, 0.9999, 1000):\n",
        "  x_and_y.append((i, J_batch(i, 9, 1)))\n",
        "\n",
        "x_and_y = np.array(x_and_y)\n",
        "\n",
        "print(x_and_y.shape)\n",
        "  \n",
        "fig = plt.figure(figsize=(10,8))\n",
        "plt.plot(x_and_y[:,0], x_and_y[:,1])\n",
        "plt.xlabel('p')\n",
        "plt.ylabel('Loss')\n"
      ],
      "execution_count": 0,
      "outputs": [
        {
          "output_type": "stream",
          "text": [
            "(1000, 2)\n"
          ],
          "name": "stdout"
        },
        {
          "output_type": "execute_result",
          "data": {
            "text/plain": [
              "Text(0, 0.5, 'Loss')"
            ]
          },
          "metadata": {
            "tags": []
          },
          "execution_count": 42
        },
        {
          "output_type": "display_data",
          "data": {
            "image/png": "[encoded data removed]",
            "text/plain": [
              "<Figure size 720x576 with 1 Axes>"
            ]
          },
          "metadata": {
            "tags": []
          }
        }
      ]
    },
    {
      "cell_type": "markdown",
      "metadata": {
        "id": "w2EfTMy9YS1q",
        "colab_type": "text"
      },
      "source": [
        "# Bernoulli Trial"
      ]
    },
    {
      "cell_type": "markdown",
      "metadata": {
        "id": "iWrXZk6VdYlW",
        "colab_type": "text"
      },
      "source": [
        "A quick Bernoulli trial. Bias should be close to 2.1. Sigmoid(2.1) = 0.9, which is the minimum cost / accurate prediction for 9 heads and 1 tail. "
      ]
    },
    {
      "cell_type": "code",
      "metadata": {
        "id": "v8faj_W8YcZm",
        "colab_type": "code",
        "outputId": "df5e1264-7026-439c-fbb7-dd8654f61458",
        "colab": {
          "base_uri": "https://localhost:8080/",
          "height": 104
        }
      },
      "source": [
        "k_y = k_x = Input(shape=(1,))\n",
        "k_y = Dense(1, activation='sigmoid', kernel_initializer='zeros',\n",
        "                bias_initializer='ones')(k_y)\n",
        "\n",
        "model_bernoulli = Model(inputs=k_x, outputs=k_y)\n",
        "model_bernoulli.compile(optimizer='adam', loss='binary_crossentropy', metrics=['binary_accuracy'])\n",
        "\n",
        "X = np.zeros((10,))\n",
        "y = np.concatenate([np.ones((9,)), np.zeros((1,))])\n",
        "\n",
        "model_bernoulli.fit(x = X, y = y, epochs=1000, verbose=0) \n",
        "print(model_bernoulli.evaluate(x = X, y = y))\n",
        "print(model_bernoulli.get_weights()[1])\n",
        "\n",
        "def sigmoid(x): return 1 / (1 + np.exp(-x))\n",
        "\n",
        "print(sigmoid(model_bernoulli.get_weights()[1][0]))\n"
      ],
      "execution_count": 0,
      "outputs": [
        {
          "output_type": "stream",
          "text": [
            "\r10/10 [==============================] - 1s 57ms/step\n",
            "[0.33526673913002014, 0.8999999761581421]\n",
            "[1.75]\n",
            "0.8518410365873759\n"
          ],
          "name": "stdout"
        }
      ]
    },
    {
      "cell_type": "code",
      "metadata": {
        "id": "HtdkeX4kdJLc",
        "colab_type": "code",
        "colab": {}
      },
      "source": [
        ""
      ],
      "execution_count": 0,
      "outputs": []
    }
  ]
}